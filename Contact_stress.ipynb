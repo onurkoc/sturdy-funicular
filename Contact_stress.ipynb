{
 "cells": [
  {
   "cell_type": "markdown",
   "metadata": {},
   "source": [
    "<p style=\"font-family: Calibri; font-size:3em;color:purple; font-style:bold\"><br>\n",
    "Projekt: 2180-300 Granitztal<br><br><br> Innenschale - Anhydrit</p>\n",
    "\n",
    "<p style=\"font-family: Calibri; font-size:1.75em;color:#2462C0; font-style:bold\"><br>Umwandlung der Kontaktspannungen im Anschluss zu den Schnittgrößen</p>"
   ]
  },
  {
   "cell_type": "markdown",
   "metadata": {
    "ExecuteTime": {
     "end_time": "2017-08-29T08:04:02.625000Z",
     "start_time": "2017-08-29T08:04:02.574000Z"
    }
   },
   "source": [
    "![contact](Contact_Stress.JPG)"
   ]
  },
  {
   "cell_type": "code",
   "execution_count": 1,
   "metadata": {
    "ExecuteTime": {
     "end_time": "2017-08-29T08:34:44.793000Z",
     "start_time": "2017-08-29T08:34:44.148000Z"
    },
    "collapsed": true
   },
   "outputs": [],
   "source": [
    "import numpy as np\n",
    "import pandas as pd\n",
    "import matplotlib.pyplot as plt\n",
    "%matplotlib inline"
   ]
  },
  {
   "cell_type": "markdown",
   "metadata": {},
   "source": [
    "### Eingabe der .csv-Datei ins Pandas"
   ]
  },
  {
   "cell_type": "code",
   "execution_count": 2,
   "metadata": {
    "ExecuteTime": {
     "end_time": "2017-08-29T08:34:44.823000Z",
     "start_time": "2017-08-29T08:34:44.793000Z"
    }
   },
   "outputs": [
    {
     "data": {
      "text/html": [
       "<div>\n",
       "<style>\n",
       "    .dataframe thead tr:only-child th {\n",
       "        text-align: right;\n",
       "    }\n",
       "\n",
       "    .dataframe thead th {\n",
       "        text-align: left;\n",
       "    }\n",
       "\n",
       "    .dataframe tbody tr th {\n",
       "        vertical-align: top;\n",
       "    }\n",
       "</style>\n",
       "<table border=\"1\" class=\"dataframe\">\n",
       "  <thead>\n",
       "    <tr style=\"text-align: right;\">\n",
       "      <th></th>\n",
       "      <th>x</th>\n",
       "      <th>y</th>\n",
       "    </tr>\n",
       "  </thead>\n",
       "  <tbody>\n",
       "    <tr>\n",
       "      <th>1</th>\n",
       "      <td>0.00</td>\n",
       "      <td>0.0</td>\n",
       "    </tr>\n",
       "    <tr>\n",
       "      <th>2</th>\n",
       "      <td>0.07</td>\n",
       "      <td>0.0</td>\n",
       "    </tr>\n",
       "    <tr>\n",
       "      <th>3</th>\n",
       "      <td>0.07</td>\n",
       "      <td>0.0</td>\n",
       "    </tr>\n",
       "    <tr>\n",
       "      <th>4</th>\n",
       "      <td>0.13</td>\n",
       "      <td>0.0</td>\n",
       "    </tr>\n",
       "    <tr>\n",
       "      <th>5</th>\n",
       "      <td>0.13</td>\n",
       "      <td>0.0</td>\n",
       "    </tr>\n",
       "    <tr>\n",
       "      <th>6</th>\n",
       "      <td>0.20</td>\n",
       "      <td>0.0</td>\n",
       "    </tr>\n",
       "    <tr>\n",
       "      <th>7</th>\n",
       "      <td>0.20</td>\n",
       "      <td>0.0</td>\n",
       "    </tr>\n",
       "    <tr>\n",
       "      <th>8</th>\n",
       "      <td>0.26</td>\n",
       "      <td>0.0</td>\n",
       "    </tr>\n",
       "    <tr>\n",
       "      <th>9</th>\n",
       "      <td>0.26</td>\n",
       "      <td>0.0</td>\n",
       "    </tr>\n",
       "    <tr>\n",
       "      <th>10</th>\n",
       "      <td>0.33</td>\n",
       "      <td>0.0</td>\n",
       "    </tr>\n",
       "    <tr>\n",
       "      <th>11</th>\n",
       "      <td>0.33</td>\n",
       "      <td>0.0</td>\n",
       "    </tr>\n",
       "    <tr>\n",
       "      <th>12</th>\n",
       "      <td>0.39</td>\n",
       "      <td>-3040.0</td>\n",
       "    </tr>\n",
       "    <tr>\n",
       "      <th>13</th>\n",
       "      <td>0.39</td>\n",
       "      <td>-2690.0</td>\n",
       "    </tr>\n",
       "    <tr>\n",
       "      <th>14</th>\n",
       "      <td>0.46</td>\n",
       "      <td>-7470.0</td>\n",
       "    </tr>\n",
       "    <tr>\n",
       "      <th>15</th>\n",
       "      <td>0.46</td>\n",
       "      <td>-7470.0</td>\n",
       "    </tr>\n",
       "    <tr>\n",
       "      <th>16</th>\n",
       "      <td>0.52</td>\n",
       "      <td>-11300.0</td>\n",
       "    </tr>\n",
       "    <tr>\n",
       "      <th>17</th>\n",
       "      <td>0.52</td>\n",
       "      <td>-13900.0</td>\n",
       "    </tr>\n",
       "    <tr>\n",
       "      <th>18</th>\n",
       "      <td>0.59</td>\n",
       "      <td>-18200.0</td>\n",
       "    </tr>\n",
       "    <tr>\n",
       "      <th>19</th>\n",
       "      <td>0.59</td>\n",
       "      <td>-24500.0</td>\n",
       "    </tr>\n",
       "    <tr>\n",
       "      <th>20</th>\n",
       "      <td>0.65</td>\n",
       "      <td>-38100.0</td>\n",
       "    </tr>\n",
       "  </tbody>\n",
       "</table>\n",
       "</div>"
      ],
      "text/plain": [
       "       x        y\n",
       "1   0.00      0.0\n",
       "2   0.07      0.0\n",
       "3   0.07      0.0\n",
       "4   0.13      0.0\n",
       "5   0.13      0.0\n",
       "6   0.20      0.0\n",
       "7   0.20      0.0\n",
       "8   0.26      0.0\n",
       "9   0.26      0.0\n",
       "10  0.33      0.0\n",
       "11  0.33      0.0\n",
       "12  0.39  -3040.0\n",
       "13  0.39  -2690.0\n",
       "14  0.46  -7470.0\n",
       "15  0.46  -7470.0\n",
       "16  0.52 -11300.0\n",
       "17  0.52 -13900.0\n",
       "18  0.59 -18200.0\n",
       "19  0.59 -24500.0\n",
       "20  0.65 -38100.0"
      ]
     },
     "execution_count": 2,
     "metadata": {},
     "output_type": "execute_result"
    }
   ],
   "source": [
    "df = pd.read_csv('x_y2.csv', sep=';', header=0)\n",
    "x_ = df['x_'][1:].dropna().astype(float)\n",
    "stress = df['Effective stress-NN'][1:].dropna().astype(float)\n",
    "df_xy = pd.DataFrame({'x':x_, 'y':stress})\n",
    "df_xy"
   ]
  },
  {
   "cell_type": "markdown",
   "metadata": {},
   "source": [
    "### Ohne Null-Werte"
   ]
  },
  {
   "cell_type": "code",
   "execution_count": 3,
   "metadata": {
    "ExecuteTime": {
     "end_time": "2017-08-29T08:34:44.849000Z",
     "start_time": "2017-08-29T08:34:44.826000Z"
    }
   },
   "outputs": [
    {
     "data": {
      "text/html": [
       "<div>\n",
       "<style>\n",
       "    .dataframe thead tr:only-child th {\n",
       "        text-align: right;\n",
       "    }\n",
       "\n",
       "    .dataframe thead th {\n",
       "        text-align: left;\n",
       "    }\n",
       "\n",
       "    .dataframe tbody tr th {\n",
       "        vertical-align: top;\n",
       "    }\n",
       "</style>\n",
       "<table border=\"1\" class=\"dataframe\">\n",
       "  <thead>\n",
       "    <tr style=\"text-align: right;\">\n",
       "      <th></th>\n",
       "      <th>x</th>\n",
       "      <th>y</th>\n",
       "    </tr>\n",
       "  </thead>\n",
       "  <tbody>\n",
       "    <tr>\n",
       "      <th>0</th>\n",
       "      <td>0.39</td>\n",
       "      <td>-3040.0</td>\n",
       "    </tr>\n",
       "    <tr>\n",
       "      <th>1</th>\n",
       "      <td>0.39</td>\n",
       "      <td>-2690.0</td>\n",
       "    </tr>\n",
       "    <tr>\n",
       "      <th>2</th>\n",
       "      <td>0.46</td>\n",
       "      <td>-7470.0</td>\n",
       "    </tr>\n",
       "    <tr>\n",
       "      <th>3</th>\n",
       "      <td>0.46</td>\n",
       "      <td>-7470.0</td>\n",
       "    </tr>\n",
       "    <tr>\n",
       "      <th>4</th>\n",
       "      <td>0.52</td>\n",
       "      <td>-11300.0</td>\n",
       "    </tr>\n",
       "    <tr>\n",
       "      <th>5</th>\n",
       "      <td>0.52</td>\n",
       "      <td>-13900.0</td>\n",
       "    </tr>\n",
       "    <tr>\n",
       "      <th>6</th>\n",
       "      <td>0.59</td>\n",
       "      <td>-18200.0</td>\n",
       "    </tr>\n",
       "    <tr>\n",
       "      <th>7</th>\n",
       "      <td>0.59</td>\n",
       "      <td>-24500.0</td>\n",
       "    </tr>\n",
       "    <tr>\n",
       "      <th>8</th>\n",
       "      <td>0.65</td>\n",
       "      <td>-38100.0</td>\n",
       "    </tr>\n",
       "  </tbody>\n",
       "</table>\n",
       "</div>"
      ],
      "text/plain": [
       "      x        y\n",
       "0  0.39  -3040.0\n",
       "1  0.39  -2690.0\n",
       "2  0.46  -7470.0\n",
       "3  0.46  -7470.0\n",
       "4  0.52 -11300.0\n",
       "5  0.52 -13900.0\n",
       "6  0.59 -18200.0\n",
       "7  0.59 -24500.0\n",
       "8  0.65 -38100.0"
      ]
     },
     "execution_count": 3,
     "metadata": {},
     "output_type": "execute_result"
    }
   ],
   "source": [
    "data = df_xy[df_xy['y']<0].reset_index().drop('index', axis=1)\n",
    "data"
   ]
  },
  {
   "cell_type": "markdown",
   "metadata": {},
   "source": [
    "### Grafik in Matplotlib"
   ]
  },
  {
   "cell_type": "code",
   "execution_count": 4,
   "metadata": {
    "ExecuteTime": {
     "end_time": "2017-08-29T08:34:45.065000Z",
     "start_time": "2017-08-29T08:34:44.853000Z"
    }
   },
   "outputs": [
    {
     "data": {
      "image/png": "[encoded data removed]",
      "text/plain": [
       "<matplotlib.figure.Figure at 0x92a4048>"
      ]
     },
     "metadata": {},
     "output_type": "display_data"
    }
   ],
   "source": [
    "x_min = -1*max(df_xy['x'])/2.0\n",
    "x_max = max(df_xy['x'])/2.0\n",
    "plt.figure(dpi=120)\n",
    "ax = plt.gca()\n",
    "ax.invert_yaxis()\n",
    "ax.grid(True)\n",
    "ax.set_xlim([x_min,x_max])\n",
    "ax.set_ylim([0,-40000])\n",
    "plt.plot(-1*(df_xy['x'] - max(df_xy['x'])/2.0), df_xy['y']);"
   ]
  },
  {
   "cell_type": "markdown",
   "metadata": {},
   "source": [
    "### Abschätzen der Fläche unterhalb der Linie gemäß Simpsons und Trepezoid"
   ]
  },
  {
   "cell_type": "code",
   "execution_count": 5,
   "metadata": {
    "ExecuteTime": {
     "end_time": "2017-08-29T08:34:45.187000Z",
     "start_time": "2017-08-29T08:34:45.068000Z"
    },
    "collapsed": true
   },
   "outputs": [],
   "source": [
    "from scipy.integrate import simps, trapz\n",
    "z = np.polyfit(df_xy['x'] - max(df_xy['x'])/2.0, df_xy['y'], 6)  # fit ploynomial 6rd degree \n",
    "p = np.poly1d(z)"
   ]
  },
  {
   "cell_type": "code",
   "execution_count": 6,
   "metadata": {
    "ExecuteTime": {
     "end_time": "2017-08-29T08:34:45.197000Z",
     "start_time": "2017-08-29T08:34:45.191000Z"
    },
    "collapsed": true
   },
   "outputs": [],
   "source": [
    "x_p = np.linspace(-1*max(df_xy['x'])/2.0, max(df_xy['x'])/2.0, 100)"
   ]
  },
  {
   "cell_type": "code",
   "execution_count": 7,
   "metadata": {
    "ExecuteTime": {
     "end_time": "2017-08-29T08:34:45.225000Z",
     "start_time": "2017-08-29T08:34:45.200000Z"
    }
   },
   "outputs": [
    {
     "name": "stdout",
     "output_type": "stream",
     "text": [
      "Fläche simpsons =  -3869.38091751\n",
      "Fläche trepezoid =  -3870.91997079\n"
     ]
    }
   ],
   "source": [
    "area1 = simps(p(x_p), x_p)\n",
    "area2 = trapz(p(x_p), x_p)\n",
    "print 'Fläche simpsons = ', area1\n",
    "print 'Fläche trepezoid = ', area2"
   ]
  },
  {
   "cell_type": "code",
   "execution_count": 8,
   "metadata": {
    "ExecuteTime": {
     "end_time": "2017-08-29T08:34:45.424000Z",
     "start_time": "2017-08-29T08:34:45.228000Z"
    }
   },
   "outputs": [
    {
     "data": {
      "image/png": "[encoded data removed]",
      "text/plain": [
       "<matplotlib.figure.Figure at 0xa6c36d8>"
      ]
     },
     "metadata": {},
     "output_type": "display_data"
    }
   ],
   "source": [
    "plt.figure(dpi=120)\n",
    "ax = plt.gca()\n",
    "ax.invert_yaxis()\n",
    "ax.grid(True)\n",
    "ax.set_xlim([x_min,x_max])\n",
    "ax.set_ylim([1000,-40000])\n",
    "plt.plot(-1*(df_xy['x'] - max(df_xy['x'])/2.0), df_xy['y'], 'o-', -1*x_p, p(x_p), 'r--');"
   ]
  },
  {
   "cell_type": "markdown",
   "metadata": {},
   "source": [
    "### Hilfe-Funktion zum Konvertieren der Fläche ins N-M Paar"
   ]
  },
  {
   "cell_type": "code",
   "execution_count": 9,
   "metadata": {
    "ExecuteTime": {
     "end_time": "2017-08-29T08:34:45.434000Z",
     "start_time": "2017-08-29T08:34:45.426000Z"
    },
    "collapsed": true
   },
   "outputs": [],
   "source": [
    "def find_N_M(sigma1, sigma2, h1, h2, H=0.65, B=1.0):\n",
    "    \"\"\"Berechnet Normalkraft und Moment, wobei B: Breite, H: Hoehe\"\"\"\n",
    "    dH = (h2-h1)\n",
    "    A = B * dH\n",
    "    W = B * H * H / 6.0 \n",
    "    normalkraft = (sigma1 + sigma2) / 2.0 * A\n",
    "    moment = (sigma1 - sigma2) / 2.0 * W\n",
    "    return moment, normalkraft"
   ]
  },
  {
   "cell_type": "markdown",
   "metadata": {},
   "source": [
    "### Ergebnis:"
   ]
  },
  {
   "cell_type": "code",
   "execution_count": 10,
   "metadata": {
    "ExecuteTime": {
     "end_time": "2017-08-29T08:34:45.474000Z",
     "start_time": "2017-08-29T08:34:45.438000Z"
    },
    "scrolled": true
   },
   "outputs": [
    {
     "name": "stdout",
     "output_type": "stream",
     "text": [
      "Moment =  1335.88835766\n",
      "Normalkraft =  -3870.91997079\n"
     ]
    }
   ],
   "source": [
    "m = np.array([])\n",
    "n = np.array([])\n",
    "for i, item in enumerate(x_p):\n",
    "    try:\n",
    "        moment, normalkraft = find_N_M(sigma1=p(x_p[i]), \n",
    "                                       sigma2=p(x_p[i+1]), \n",
    "                                       h1=x_p[i], \n",
    "                                       h2=x_p[i+1])\n",
    "        m = np.append(m, moment)\n",
    "        n = np.append(n, normalkraft)\n",
    "    except IndexError:\n",
    "        pass\n",
    "print 'Moment = ', m.sum()\n",
    "print 'Normalkraft = ', n.sum()"
   ]
  },
  {
   "cell_type": "markdown",
   "metadata": {},
   "source": [
    "### Test der Hilfe-Funktion\n",
    "- Bereich: von -0,25 bis 0,25 (h = 0,5m)\n",
    "- $\\sigma_1 = $ 100; $\\sigma_2 = $ 200\n",
    "- Erwartetes Ergebnis: $N = $ 75,0 ;$M = $ -2,083"
   ]
  },
  {
   "cell_type": "code",
   "execution_count": 11,
   "metadata": {
    "ExecuteTime": {
     "end_time": "2017-08-29T08:34:45.501000Z",
     "start_time": "2017-08-29T08:34:45.477000Z"
    }
   },
   "outputs": [
    {
     "data": {
      "text/plain": [
       "(100.0, 200.0)"
      ]
     },
     "execution_count": 11,
     "metadata": {},
     "output_type": "execute_result"
    }
   ],
   "source": [
    "x_test = np.linspace(-0.25,0.25,100)\n",
    "y_test = x_test*200 + 150\n",
    "test = (min(y_test), max(y_test))\n",
    "test"
   ]
  },
  {
   "cell_type": "code",
   "execution_count": 12,
   "metadata": {
    "ExecuteTime": {
     "end_time": "2017-08-29T08:34:45.525000Z",
     "start_time": "2017-08-29T08:34:45.507000Z"
    }
   },
   "outputs": [
    {
     "name": "stdout",
     "output_type": "stream",
     "text": [
      "Moment =  -2.08333333333\n",
      "Normalkraft =  75.0\n"
     ]
    }
   ],
   "source": [
    "m_test = np.array([])\n",
    "n_test = np.array([])\n",
    "for i, _ in enumerate(x_test):\n",
    "    try:\n",
    "        moment, normalkraft = find_N_M(sigma1=(y_test[i]), \n",
    "                                       sigma2=(y_test[i+1]), \n",
    "                                       h1=x_test[i], \n",
    "                                       h2=x_test[i+1], \n",
    "                                       H=0.5)\n",
    "        m_test = np.append(m_test, moment)\n",
    "        n_test = np.append(n_test, normalkraft)\n",
    "    except IndexError:\n",
    "        pass\n",
    "print 'Moment = ', m_test.sum()\n",
    "print 'Normalkraft = ', n_test.sum()"
   ]
  }
 ],
 "metadata": {
  "hide_input": false,
  "kernelspec": {
   "display_name": "Python [conda env:snowflake]",
   "language": "python",
   "name": "conda-env-snowflake-py"
  },
  "language_info": {
   "codemirror_mode": {
    "name": "ipython",
    "version": 2
   },
   "file_extension": ".py",
   "mimetype": "text/x-python",
   "name": "python",
   "nbconvert_exporter": "python",
   "pygments_lexer": "ipython2",
   "version": "2.7.13"
  },
  "latex_envs": {
   "bibliofile": "biblio.bib",
   "cite_by": "apalike",
   "current_citInitial": 1,
   "eqLabelWithNumbers": true,
   "eqNumInitial": 0
  }
 },
 "nbformat": 4,
 "nbformat_minor": 2
}
