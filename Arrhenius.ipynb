{
 "cells": [
  {
   "cell_type": "code",
   "execution_count": 19,
   "metadata": {
    "collapsed": false
   },
   "outputs": [
    {
     "data": {
      "image/png": "[encoded data removed]",
      "text/plain": [
       "<matplotlib.figure.Figure at 0xa9115f8>"
      ]
     },
     "metadata": {},
     "output_type": "display_data"
    },
    {
     "data": {
      "text/plain": [
       "<sympy.plotting.plot.Plot at 0x8d4bd30>"
      ]
     },
     "execution_count": 19,
     "metadata": {},
     "output_type": "execute_result"
    }
   ],
   "source": [
    "from IPython.display import display\n",
    "\n",
    "from sympy.interactive import printing\n",
    "printing.init_printing(use_latex='mathjax')\n",
    "\n",
    "from __future__ import division\n",
    "from sympy import *\n",
    " \n",
    "a, b, c, d, f = 3.2469, 51.9501, 509.7504, 5.1950, 0.086\n",
    "\n",
    "t = Symbol('t') \n",
    "ksi = Symbol('$\\\\xi$')\n",
    "ksi_f = Function('$\\\\xi$')(t)\n",
    "Af = Function('Af')(ksi)\n",
    " \n",
    "Af = a * ((1 - exp(-b * (ksi - f))) / (1 + c * (ksi - f) ** d))\n",
    "\n",
    "plot(Af, (ksi, 0, 1), ylim = (0, 3.5))"
   ]
  },
  {
   "cell_type": "code",
   "execution_count": 23,
   "metadata": {
    "collapsed": false
   },
   "outputs": [
    {
     "data": {
      "text/latex": [
       "$$- \\frac{2177670.82286597 - 189798783.304114 e^{- 51.9501 \\xi}}{509.7504 \\left(\\xi - 0.086\\right)^{5.195} + 1} + \\frac{d}{d t} \\xi{\\left (t \\right )} = 0$$"
      ],
      "text/plain": [
       "                   ⎛                      -51.9501⋅\\xi⎞                 \n",
       "  2177670.82286597⋅⎝1 - 87.1567829771099⋅ℯ            ⎠   d             \n",
       "- ───────────────────────────────────────────────────── + ──(\\xi(t)) = 0\n",
       "                                   5.195                  dt            \n",
       "             509.7504⋅(\\xi - 0.086)      + 1                            "
      ]
     },
     "metadata": {},
     "output_type": "display_data"
    },
    {
     "name": "stdout",
     "output_type": "stream",
     "text": [
      "Eq(\\xi(t), C1 + t*(2177670.82286597/(509.7504*(\\xi - 0.086)**5.195 + 1) - 189798783.304114*exp(-51.9501*\\xi)/(509.7504*(\\xi - 0.086)**5.195 + 1.0)))\n"
     ]
    },
    {
     "data": {
      "text/latex": [
       "$$\\xi{\\left (t \\right )} = C_{1} + t \\left(\\frac{2177670.82286597}{509.7504 \\left(\\xi - 0.086\\right)^{5.195} + 1} - \\frac{189798783.304114 e^{- 51.9501 \\xi}}{509.7504 \\left(\\xi - 0.086\\right)^{5.195} + 1.0}\\right)$$"
      ],
      "text/plain": [
       "                ⎛                                                      -51.950\n",
       "                ⎜        2177670.82286597            189798783.304114⋅ℯ       \n",
       "\\xi(t) = C₁ + t⋅⎜─────────────────────────────── - ───────────────────────────\n",
       "                ⎜                      5.195                             5.195\n",
       "                ⎝509.7504⋅(\\xi - 0.086)      + 1   509.7504⋅(\\xi - 0.086)     \n",
       "\n",
       "1⋅\\xi ⎞\n",
       "      ⎟\n",
       "──────⎟\n",
       "      ⎟\n",
       " + 1.0⎠"
      ]
     },
     "metadata": {},
     "output_type": "display_data"
    }
   ],
   "source": [
    "t = Symbol('t') \n",
    "ksi = Symbol('\\\\xi')\n",
    "ksi_f = Function('\\\\xi')(t)\n",
    "Af = Function('Af')(ksi)\n",
    " \n",
    "Af = a * ((1 - exp(-b * (ksi - f))) / (1 + c * (ksi - f) ** d))\n",
    "\n",
    "T_abs = 273.15 # Absolute temperature\n",
    "T_0 = 25 # Beginning temperature\n",
    "T = T_abs + T_0\n",
    "R = 1 # Universal gas constant = 1\n",
    "Ea_R = 4000 # Activation energy [K]\n",
    "\n",
    "s2d = 24 * 60 * 60 # Days in seconds\n",
    "t20d = s2d * 20 # After 20 days\n",
    "t1y = s2d * 365 # After 1 year\n",
    "\n",
    "eqn = Eq(Derivative(ksi_f,t) - Af * exp(Ea_R / (R * T)))\n",
    "display(eqn)\n",
    "EQ = Function('EQ')(t)\n",
    "EQ = dsolve(eqn, ksi_f)\n",
    "print EQ\n",
    "display(EQ)"
   ]
  },
  {
   "cell_type": "code",
   "execution_count": 3,
   "metadata": {
    "collapsed": false
   },
   "outputs": [
    {
     "name": "stdout",
     "output_type": "stream",
     "text": [
      "0.100000000000000\n"
     ]
    }
   ],
   "source": [
    "# Time begin -> t0 = 0 \n",
    "# Hydration begin -> ksi0 = 0.1\n",
    "\n",
    "C1 = 0.1 - 0.0*(2177670.82286597/(509.7504*(0.1 - 0.086)**5.195 + 1)\n",
    "                - 189798783.304114*exp(-51.9501*0.1)/(509.7504*(0.1 - 0.086)**5.195 + 1.0))\n",
    "print C1"
   ]
  },
  {
   "cell_type": "code",
   "execution_count": 15,
   "metadata": {
    "collapsed": false
   },
   "outputs": [
    {
     "ename": "TypeError",
     "evalue": "object of type 'Add' has no len()",
     "output_type": "error",
     "traceback": [
      "\u001b[0;31m---------------------------------------------------------------------------\u001b[0m",
      "\u001b[0;31mTypeError\u001b[0m                                 Traceback (most recent call last)",
      "\u001b[0;32m<ipython-input-15-abd84630c526>\u001b[0m in \u001b[0;36m<module>\u001b[0;34m()\u001b[0m\n\u001b[1;32m      1\u001b[0m \u001b[1;31m# So the function becomes\u001b[0m\u001b[1;33m\u001b[0m\u001b[1;33m\u001b[0m\u001b[0m\n\u001b[1;32m      2\u001b[0m \u001b[0mksi\u001b[0m \u001b[1;33m=\u001b[0m \u001b[1;36m0\u001b[0m\u001b[1;33m,\u001b[0m\u001b[1;36m1\u001b[0m \u001b[1;33m+\u001b[0m \u001b[0mt\u001b[0m\u001b[1;33m*\u001b[0m\u001b[1;33m(\u001b[0m\u001b[1;36m2177670.82286597\u001b[0m\u001b[1;33m/\u001b[0m\u001b[1;33m(\u001b[0m\u001b[1;36m509.7504\u001b[0m\u001b[1;33m*\u001b[0m\u001b[1;33m(\u001b[0m\u001b[0mksi\u001b[0m \u001b[1;33m-\u001b[0m \u001b[1;36m0.086\u001b[0m\u001b[1;33m)\u001b[0m\u001b[1;33m**\u001b[0m\u001b[1;36m5.195\u001b[0m \u001b[1;33m+\u001b[0m \u001b[1;36m1\u001b[0m\u001b[1;33m)\u001b[0m                \u001b[1;33m-\u001b[0m \u001b[1;36m189798783.304114\u001b[0m\u001b[1;33m*\u001b[0m\u001b[0mexp\u001b[0m\u001b[1;33m(\u001b[0m\u001b[1;33m-\u001b[0m\u001b[1;36m51.9501\u001b[0m\u001b[1;33m*\u001b[0m\u001b[0mksi\u001b[0m\u001b[1;33m)\u001b[0m\u001b[1;33m/\u001b[0m\u001b[1;33m(\u001b[0m\u001b[1;36m509.7504\u001b[0m\u001b[1;33m*\u001b[0m\u001b[1;33m(\u001b[0m\u001b[0mksi\u001b[0m \u001b[1;33m-\u001b[0m \u001b[1;36m0.086\u001b[0m\u001b[1;33m)\u001b[0m\u001b[1;33m**\u001b[0m\u001b[1;36m5.195\u001b[0m \u001b[1;33m+\u001b[0m \u001b[1;36m1.0\u001b[0m\u001b[1;33m)\u001b[0m\u001b[1;33m)\u001b[0m\u001b[1;33m\u001b[0m\u001b[0m\n\u001b[0;32m----> 3\u001b[0;31m \u001b[0mplot\u001b[0m\u001b[1;33m(\u001b[0m\u001b[0mksi\u001b[0m\u001b[1;33m,\u001b[0m \u001b[1;33m(\u001b[0m\u001b[0mt\u001b[0m\u001b[1;33m,\u001b[0m \u001b[1;36m0\u001b[0m\u001b[1;33m,\u001b[0m \u001b[0mt20d\u001b[0m\u001b[1;33m)\u001b[0m\u001b[1;33m)\u001b[0m\u001b[1;33m\u001b[0m\u001b[0m\n\u001b[0m",
      "\u001b[0;32mC:\\Anaconda2\\lib\\site-packages\\sympy\\plotting\\plot.pyc\u001b[0m in \u001b[0;36mplot\u001b[0;34m(*args, **kwargs)\u001b[0m\n\u001b[1;32m   1277\u001b[0m     \u001b[0mshow\u001b[0m \u001b[1;33m=\u001b[0m \u001b[0mkwargs\u001b[0m\u001b[1;33m.\u001b[0m\u001b[0mpop\u001b[0m\u001b[1;33m(\u001b[0m\u001b[1;34m'show'\u001b[0m\u001b[1;33m,\u001b[0m \u001b[0mTrue\u001b[0m\u001b[1;33m)\u001b[0m\u001b[1;33m\u001b[0m\u001b[0m\n\u001b[1;32m   1278\u001b[0m     \u001b[0mseries\u001b[0m \u001b[1;33m=\u001b[0m \u001b[1;33m[\u001b[0m\u001b[1;33m]\u001b[0m\u001b[1;33m\u001b[0m\u001b[0m\n\u001b[0;32m-> 1279\u001b[0;31m     \u001b[0mplot_expr\u001b[0m \u001b[1;33m=\u001b[0m \u001b[0mcheck_arguments\u001b[0m\u001b[1;33m(\u001b[0m\u001b[0margs\u001b[0m\u001b[1;33m,\u001b[0m \u001b[1;36m1\u001b[0m\u001b[1;33m,\u001b[0m \u001b[1;36m1\u001b[0m\u001b[1;33m)\u001b[0m\u001b[1;33m\u001b[0m\u001b[0m\n\u001b[0m\u001b[1;32m   1280\u001b[0m     \u001b[0mseries\u001b[0m \u001b[1;33m=\u001b[0m \u001b[1;33m[\u001b[0m\u001b[0mLineOver1DRangeSeries\u001b[0m\u001b[1;33m(\u001b[0m\u001b[1;33m*\u001b[0m\u001b[0marg\u001b[0m\u001b[1;33m,\u001b[0m \u001b[1;33m**\u001b[0m\u001b[0mkwargs\u001b[0m\u001b[1;33m)\u001b[0m \u001b[1;32mfor\u001b[0m \u001b[0marg\u001b[0m \u001b[1;32min\u001b[0m \u001b[0mplot_expr\u001b[0m\u001b[1;33m]\u001b[0m\u001b[1;33m\u001b[0m\u001b[0m\n\u001b[1;32m   1281\u001b[0m \u001b[1;33m\u001b[0m\u001b[0m\n",
      "\u001b[0;32mC:\\Anaconda2\\lib\\site-packages\\sympy\\plotting\\plot.pyc\u001b[0m in \u001b[0;36mcheck_arguments\u001b[0;34m(args, expr_len, nb_of_free_symbols)\u001b[0m\n\u001b[1;32m   1813\u001b[0m                                      str(arg[i]))\n\u001b[1;32m   1814\u001b[0m             \u001b[1;32mfor\u001b[0m \u001b[0mi\u001b[0m \u001b[1;32min\u001b[0m \u001b[0mrange\u001b[0m\u001b[1;33m(\u001b[0m\u001b[0mnb_of_free_symbols\u001b[0m\u001b[1;33m)\u001b[0m\u001b[1;33m:\u001b[0m\u001b[1;33m\u001b[0m\u001b[0m\n\u001b[0;32m-> 1815\u001b[0;31m                 \u001b[1;32mif\u001b[0m \u001b[1;32mnot\u001b[0m \u001b[0mlen\u001b[0m\u001b[1;33m(\u001b[0m\u001b[0marg\u001b[0m\u001b[1;33m[\u001b[0m\u001b[0mi\u001b[0m \u001b[1;33m+\u001b[0m \u001b[0mexpr_len\u001b[0m\u001b[1;33m]\u001b[0m\u001b[1;33m)\u001b[0m \u001b[1;33m==\u001b[0m \u001b[1;36m3\u001b[0m\u001b[1;33m:\u001b[0m\u001b[1;33m\u001b[0m\u001b[0m\n\u001b[0m\u001b[1;32m   1816\u001b[0m                     raise ValueError(\"The ranges should be a tuple of \"\n\u001b[1;32m   1817\u001b[0m                                      \"length 3, got %s\" % str(arg[i + expr_len]))\n",
      "\u001b[0;31mTypeError\u001b[0m: object of type 'Add' has no len()"
     ]
    }
   ],
   "source": [
    "# So the function becomes\n",
    "ksi = 0,1 + t*(2177670.82286597/(509.7504*(ksi - 0.086)**5.195 + 1) \\\n",
    "               - 189798783.304114*exp(-51.9501*ksi)/(509.7504*(ksi - 0.086)**5.195 + 1.0))\n",
    "plot(ksi, (t, 0, t20d))"
   ]
  },
  {
   "cell_type": "code",
   "execution_count": null,
   "metadata": {
    "collapsed": true
   },
   "outputs": [],
   "source": []
  }
 ],
 "metadata": {
  "anaconda-cloud": {},
  "kernelspec": {
   "display_name": "Python [default]",
   "language": "python",
   "name": "python2"
  },
  "language_info": {
   "codemirror_mode": {
    "name": "ipython",
    "version": 2
   },
   "file_extension": ".py",
   "mimetype": "text/x-python",
   "name": "python",
   "nbconvert_exporter": "python",
   "pygments_lexer": "ipython2",
   "version": "2.7.12"
  }
 },
 "nbformat": 4,
 "nbformat_minor": 1
}
