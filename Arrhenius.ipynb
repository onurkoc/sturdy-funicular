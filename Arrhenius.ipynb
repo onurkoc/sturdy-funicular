{
 "cells": [
  {
   "cell_type": "code",
   "execution_count": 1,
   "metadata": {
    "ExecuteTime": {
     "end_time": "2016-11-01T22:12:48.329459",
     "start_time": "2016-11-01T22:12:46.897510"
    },
    "collapsed": false
   },
   "outputs": [
    {
     "data": {
      "image/png": "[encoded data removed]",
      "text/plain": [
       "<matplotlib.figure.Figure at 0x1ffaadd4198>"
      ]
     },
     "metadata": {},
     "output_type": "display_data"
    },
    {
     "data": {
      "text/plain": [
       "<sympy.plotting.plot.Plot at 0x1ffaa99f940>"
      ]
     },
     "execution_count": 1,
     "metadata": {},
     "output_type": "execute_result"
    }
   ],
   "source": [
    "from IPython.display import display\n",
    "\n",
    "from sympy.interactive import printing\n",
    "printing.init_printing(use_latex='mathjax')\n",
    "\n",
    "from __future__ import division\n",
    "from sympy import *\n",
    " \n",
    "a, b, c, d, f = 3.2469, 51.9501, 509.7504, 5.1950, 0.086\n",
    "\n",
    "t = Symbol('t') \n",
    "ksi = Symbol('$\\\\xi$')\n",
    "ksi_f = Function('$\\\\xi$')(t)\n",
    "Af = Function('Af')(ksi)\n",
    " \n",
    "Af = a * ((1 - exp(-b * (ksi - f))) / (1 + c * (ksi - f) ** d))\n",
    "\n",
    "plot(Af, (ksi, 0, 1), ylim = (0, 3.5))"
   ]
  },
  {
   "cell_type": "code",
   "execution_count": 3,
   "metadata": {
    "ExecuteTime": {
     "end_time": "2016-11-01T22:13:16.752218",
     "start_time": "2016-11-01T22:13:16.003098"
    },
    "collapsed": false
   },
   "outputs": [
    {
     "data": {
      "text/latex": [
       "$$- \\frac{2177670.82286597 - 189798783.304114 e^{- 51.9501 \\xi}}{509.7504 \\left(\\xi - 0.086\\right)^{5.195} + 1} + \\frac{d}{d t} \\xi{\\left (t \\right )} = 0$$"
      ],
      "text/plain": [
       "                   ⎛                      -51.9501⋅\\xi⎞                 \n",
       "  2177670.82286597⋅⎝1 - 87.1567829771099⋅ℯ            ⎠   d             \n",
       "- ───────────────────────────────────────────────────── + ──(\\xi(t)) = 0\n",
       "                                   5.195                  dt            \n",
       "             509.7504⋅(\\xi - 0.086)      + 1                            "
      ]
     },
     "metadata": {},
     "output_type": "display_data"
    },
    {
     "name": "stdout",
     "output_type": "stream",
     "text": [
      "Eq(\\xi(t), C1 + t*(2177670.82286597/(509.7504*(\\xi - 0.086)**5.195 + 1) - 189798783.304114*exp(-51.9501*\\xi)/(509.7504*(\\xi - 0.086)**5.195 + 1.0)))\n"
     ]
    },
    {
     "data": {
      "text/latex": [
       "$$\\xi{\\left (t \\right )} = C_{1} + t \\left(\\frac{2177670.82286597}{509.7504 \\left(\\xi - 0.086\\right)^{5.195} + 1} - \\frac{189798783.304114 e^{- 51.9501 \\xi}}{509.7504 \\left(\\xi - 0.086\\right)^{5.195} + 1.0}\\right)$$"
      ],
      "text/plain": [
       "                ⎛                                                      -51.950\n",
       "                ⎜        2177670.82286597            189798783.304114⋅ℯ       \n",
       "\\xi(t) = C₁ + t⋅⎜─────────────────────────────── - ───────────────────────────\n",
       "                ⎜                      5.195                             5.195\n",
       "                ⎝509.7504⋅(\\xi - 0.086)      + 1   509.7504⋅(\\xi - 0.086)     \n",
       "\n",
       "1⋅\\xi ⎞\n",
       "      ⎟\n",
       "──────⎟\n",
       "      ⎟\n",
       " + 1.0⎠"
      ]
     },
     "metadata": {},
     "output_type": "display_data"
    }
   ],
   "source": [
    "t = Symbol('t') \n",
    "ksi = Symbol('\\\\xi')\n",
    "ksi_f = Function('\\\\xi')(t)\n",
    "Af = Function('Af')(ksi)\n",
    " \n",
    "Af = a * ((1 - exp(-b * (ksi - f))) / (1 + c * (ksi - f) ** d))\n",
    "\n",
    "T_abs = 273.15 # Absolute temperature\n",
    "T_0 = 25 # Beginning temperature\n",
    "T = T_abs + T_0\n",
    "R = 1 # Universal gas constant = 1\n",
    "Ea_R = 4000 # Activation energy [K]\n",
    "\n",
    "s2d = 24 * 60 * 60 # Days in seconds\n",
    "t20d = s2d * 20 # After 20 days\n",
    "t1y = s2d * 365 # After 1 year\n",
    "\n",
    "eqn = Eq(Derivative(ksi_f,t) - Af * exp(Ea_R / (R * T)))\n",
    "display(eqn)\n",
    "EQ = Function('EQ')(t)\n",
    "EQ = dsolve(eqn, ksi_f)\n",
    "print(EQ)\n",
    "display(EQ)"
   ]
  },
  {
   "cell_type": "code",
   "execution_count": 5,
   "metadata": {
    "ExecuteTime": {
     "end_time": "2016-11-01T22:13:30.143704",
     "start_time": "2016-11-01T22:13:30.131656"
    },
    "collapsed": false
   },
   "outputs": [
    {
     "name": "stdout",
     "output_type": "stream",
     "text": [
      "0.100000000000000\n"
     ]
    }
   ],
   "source": [
    "# Time begin -> t0 = 0 \n",
    "# Hydration begin -> ksi0 = 0.1\n",
    "\n",
    "C1 = 0.1 - 0.0*(2177670.82286597/(509.7504*(0.1 - 0.086)**5.195 + 1)\n",
    "                - 189798783.304114*exp(-51.9501*0.1)/(509.7504*(0.1 - 0.086)**5.195 + 1.0))\n",
    "print(C1)"
   ]
  },
  {
   "cell_type": "code",
   "execution_count": null,
   "metadata": {
    "collapsed": true
   },
   "outputs": [],
   "source": []
  }
 ],
 "metadata": {
  "anaconda-cloud": {},
  "hide_input": false,
  "kernelspec": {
   "display_name": "Python [conda root]",
   "language": "python",
   "name": "conda-root-py"
  },
  "language_info": {
   "codemirror_mode": {
    "name": "ipython",
    "version": 3
   },
   "file_extension": ".py",
   "mimetype": "text/x-python",
   "name": "python",
   "nbconvert_exporter": "python",
   "pygments_lexer": "ipython3",
   "version": "3.5.2"
  },
  "latex_envs": {
   "bibliofile": "biblio.bib",
   "cite_by": "apalike",
   "current_citInitial": 1,
   "eqLabelWithNumbers": true,
   "eqNumInitial": 0
  }
 },
 "nbformat": 4,
 "nbformat_minor": 1
}
