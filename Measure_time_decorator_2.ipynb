{
 "cells": [
  {
   "cell_type": "code",
   "execution_count": 1,
   "metadata": {
    "collapsed": false
   },
   "outputs": [],
   "source": [
    "from time import sleep, time\n",
    "from functools import wraps\n",
    "def measure(func):\n",
    "    @wraps(func)\n",
    "    def wrapper(*args, **kwargs):\n",
    "        t = time()\n",
    "        result = func(*args, **kwargs)\n",
    "        print func.__name__, 'took:', time()-t, 'sec'\n",
    "        return result\n",
    "    return wrapper\n",
    "\n",
    "@measure\n",
    "def f(sleep_time=0.1):\n",
    "    sleep(sleep_time)\n",
    "\n",
    "@measure\n",
    "def s():\n",
    "    s = sum(n**2 for n in range(10**6))\n",
    "    return s"
   ]
  },
  {
   "cell_type": "code",
   "execution_count": 2,
   "metadata": {
    "collapsed": false
   },
   "outputs": [
    {
     "name": "stdout",
     "output_type": "stream",
     "text": [
      "f took: 0.301000118256 sec\n",
      "s took: 1.17899990082 sec\n"
     ]
    },
    {
     "data": {
      "text/plain": [
       "333332833333500000L"
      ]
     },
     "execution_count": 2,
     "metadata": {},
     "output_type": "execute_result"
    }
   ],
   "source": [
    "f(sleep_time=0.3)\n",
    "s()"
   ]
  },
  {
   "cell_type": "code",
   "execution_count": null,
   "metadata": {
    "collapsed": true
   },
   "outputs": [],
   "source": []
  }
 ],
 "metadata": {
  "kernelspec": {
   "display_name": "Python [default]",
   "language": "python",
   "name": "python2"
  },
  "language_info": {
   "codemirror_mode": {
    "name": "ipython",
    "version": 2
   },
   "file_extension": ".py",
   "mimetype": "text/x-python",
   "name": "python",
   "nbconvert_exporter": "python",
   "pygments_lexer": "ipython2",
   "version": "2.7.12"
  }
 },
 "nbformat": 4,
 "nbformat_minor": 1
}
