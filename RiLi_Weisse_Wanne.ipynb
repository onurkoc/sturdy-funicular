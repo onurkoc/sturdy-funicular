{
 "cells": [
  {
   "cell_type": "code",
   "execution_count": 1,
   "metadata": {
    "ExecuteTime": {
     "end_time": "2016-11-07T23:12:43.654574",
     "start_time": "2016-11-07T23:12:43.507023"
    },
    "collapsed": false
   },
   "outputs": [
    {
     "name": "stdout",
     "output_type": "stream",
     "text": [
      "d_1 =  56.0\n",
      "d =  244.0\n",
      "Ac_eff =  140000.0\n",
      "k =  1.0\n",
      "A_ct =  150000.0\n",
      "F_s =  117000.0\n",
      "F_cr =  109200.0\n",
      "Phi_grenz =  12\n",
      "As_erf_Fcr =  743.154761809\n",
      "As_erf_Fs =  796.237244796\n",
      "As_erf =  796.237244796\n",
      "As_phi =  113.09733552923255\n",
      "Abstand = 142.039745401\n"
     ]
    }
   ],
   "source": [
    "import numpy as np\n",
    "\n",
    "h = 300\n",
    "b = 1000\n",
    "f_ctm = 2.6\n",
    "f_cteff = 0.3 * f_ctm\n",
    "phi = 12\n",
    "c = 50.0\n",
    "d_1 = c + (phi / 2)\n",
    "d = h - d_1\n",
    "E_cm = 31000\n",
    "E_s = 200000\n",
    "A_ceff = 2.5 * (h - d) * b\n",
    "k_bet = 0.85\n",
    "k_c = 1\n",
    "k = 0.65 + (1 - 0.65) / (800 - 300) * (800 - h)\n",
    "A_ct = b * h / 2\n",
    "w_k = 0.2\n",
    "F_s = A_ct * f_cteff * k * k_c\n",
    "F_cr = A_ceff * f_cteff\n",
    "phi_grenz = min(phi * 4 * (h - d) * f_cteff * b / F_s, phi)\n",
    "sigma_s = np.sqrt(6 * w_k * f_cteff * E_s / phi_grenz)\n",
    "as_erf_Fcr = F_cr / sigma_s * k_bet\n",
    "as_erf_Fs = F_s / sigma_s * k_bet\n",
    "as_erf = max(as_erf_Fcr, as_erf_Fs)\n",
    "as_phi = phi**2 * np.pi / 4\n",
    "e = as_phi / as_erf * 1000\n",
    "\n",
    "print('d_1 = ', d_1)\n",
    "print('d = ', d)\n",
    "print('Ac_eff = ', A_ceff)\n",
    "print('k = ', k)\n",
    "print('A_ct = ', A_ct)\n",
    "print('F_s = ', F_s)\n",
    "print('F_cr = ', F_cr)\n",
    "print('Phi_grenz = ', phi_grenz)\n",
    "print('As_erf_Fcr = ', as_erf_Fcr)\n",
    "print('As_erf_Fs = ', as_erf_Fs)\n",
    "print('As_erf = ', as_erf)\n",
    "print('As_phi = ', as_phi)\n",
    "print('Abstand =', e)"
   ]
  },
  {
   "cell_type": "code",
   "execution_count": null,
   "metadata": {
    "collapsed": true
   },
   "outputs": [],
   "source": []
  }
 ],
 "metadata": {
  "anaconda-cloud": {},
  "hide_input": false,
  "kernelspec": {
   "display_name": "Python [default]",
   "language": "python",
   "name": "python3"
  },
  "language_info": {
   "codemirror_mode": {
    "name": "ipython",
    "version": 3
   },
   "file_extension": ".py",
   "mimetype": "text/x-python",
   "name": "python",
   "nbconvert_exporter": "python",
   "pygments_lexer": "ipython3",
   "version": "3.5.2"
  },
  "latex_envs": {
   "bibliofile": "biblio.bib",
   "cite_by": "apalike",
   "current_citInitial": 1,
   "eqLabelWithNumbers": true,
   "eqNumInitial": 0
  }
 },
 "nbformat": 4,
 "nbformat_minor": 1
}
