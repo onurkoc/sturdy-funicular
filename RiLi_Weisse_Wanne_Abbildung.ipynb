{
 "cells": [
  {
   "cell_type": "code",
   "execution_count": 1,
   "metadata": {
    "ExecuteTime": {
     "end_time": "2016-11-09T00:42:39.949032",
     "start_time": "2016-11-09T00:42:39.579934"
    },
    "collapsed": false
   },
   "outputs": [
    {
     "name": "stdout",
     "output_type": "stream",
     "text": [
      "Using matplotlib backend: TkAgg\n",
      "Populating the interactive namespace from numpy and matplotlib\n"
     ]
    },
    {
     "name": "stderr",
     "output_type": "stream",
     "text": [
      "/usr/local/lib/python3.4/dist-packages/IPython/core/magics/pylab.py:161: UserWarning: pylab import has clobbered these variables: ['repeat']\n",
      "`%matplotlib` prevents importing * from pylab and numpy\n",
      "  \"\\n`%matplotlib` prevents importing * from pylab and numpy\"\n"
     ]
    }
   ],
   "source": [
    "import numpy as np\n",
    "from decimal import Decimal\n",
    "from itertools import repeat\n",
    "import matplotlib.pyplot as plt\n",
    "from mpldatacursor import datacursor \n",
    "import seaborn\n",
    "%pylab\n",
    "\n",
    "h = np.arange(200, 900, 1)\n",
    "b = 1000\n",
    "c = 50.0\n",
    "phi = 12.0\n",
    "f_ctm = 2.6\n",
    "f_cteff = 0.3 * f_ctm\n",
    "\n",
    "d_1 = c + (phi / 2)\n",
    "d = h - d_1\n",
    "E_cm = 31000\n",
    "E_s = 200000\n",
    "A_ceff = 2.5 * (h - d) * b\n",
    "k_bet = 0.85\n",
    "k_c = 1\n",
    "k = 0.65 + (1 - 0.65) / (800 - 300) * (800 - h)\n",
    "A_ct = b * h / 2\n",
    "w_k = 0.2\n",
    "F_s = A_ct * f_cteff * k * k_c\n",
    "F_cr = A_ceff * f_cteff\n",
    "\n",
    "A = list(map(lambda x: (phi * 4 * d_1 * f_cteff * b / (b * x / 2 * f_cteff * (0.65 + (1 - 0.65) / \n",
    "                                                              (800 - 300) * (800 - x)) * k_c)), h))\n",
    "# An alternative way to calculate A:\n",
    "# A = [phi * 4 * d_1 * f_cteff * b / (b * x / 2 * f_cteff * (0.65 + (1 - 0.65) / (800 - 300) * (800 - x)) * k_c) for x in h]\n",
    "# A_ = [float(Decimal(\"%.2f\" % e)) for e in A]\n",
    "\n",
    "B = list(repeat(phi, len(h)))\n",
    "\n",
    "phi_grenz = list(min(A[x], B[x]) for x in range(len(h)))\n",
    "\n",
    "sigma_s = [np.sqrt(6 * w_k * f_cteff * E_s / phi_grenz[x]) for x in range(len(h))]\n",
    "#sigma_s =  [float(Decimal(\"%.2f\" % e)) for e in sigma_s_]\n",
    "\n",
    "as_erf_Fcr = F_cr / sigma_s * k_bet\n",
    "\n",
    "as_erf_Fs = F_s / sigma_s * k_bet\n",
    "\n",
    "as_erf = list(max(as_erf_Fcr[x], as_erf_Fs[x]) for x in range(len(h)))\n",
    "\n",
    "as_phi = phi**2 * np.pi / 4\n",
    "\n",
    "e = list((as_phi / as_erf[x] * 1000) for x in range(len(h)))\n",
    "\n",
    "'''\n",
    "#print(d)\n",
    "print(h)\n",
    "#print(A_ct)\n",
    "print(A_)\n",
    "#print(B_)\n",
    "#print(phi_grenz)\n",
    "print(sigma_s)\n",
    "print(as_erf_Fcr)\n",
    "print(as_erf_Fs)\n",
    "print(as_erf)\n",
    "print(e)\n",
    "'''\n",
    "\n",
    "plt.figure(num=1, dpi=125, edgecolor='w')\n",
    "#fig = plt.gcf()\n",
    "#fig.canvas.set_window_title('Support Resistance')\n",
    "plt.plot(h, as_erf, 'r-', lw=1.5)\n",
    "plt.title('Mindestbewehrung für zentrischen Zwang für $\\phi = {:.0f}$'.format(phi))\n",
    "plt.ylabel('$A_{s,erf}\\,[mm^2/m]$', fontsize=12)\n",
    "plt.xlabel('Bauteildicke $h\\,[mm]$', fontsize=12)\n",
    "datacursor(display='multiple', draggable=True)\n",
    "plt.show()"
   ]
  },
  {
   "cell_type": "code",
   "execution_count": null,
   "metadata": {
    "collapsed": true
   },
   "outputs": [],
   "source": []
  }
 ],
 "metadata": {
  "anaconda-cloud": {},
  "hide_input": false,
  "kernelspec": {
   "display_name": "Python 3",
   "language": "python",
   "name": "python3"
  },
  "language_info": {
   "codemirror_mode": {
    "name": "ipython",
    "version": 3
   },
   "file_extension": ".py",
   "mimetype": "text/x-python",
   "name": "python",
   "nbconvert_exporter": "python",
   "pygments_lexer": "ipython3",
   "version": "3.4.2"
  },
  "latex_envs": {
   "bibliofile": "biblio.bib",
   "cite_by": "apalike",
   "current_citInitial": 1,
   "eqLabelWithNumbers": true,
   "eqNumInitial": 0
  }
 },
 "nbformat": 4,
 "nbformat_minor": 1
}
