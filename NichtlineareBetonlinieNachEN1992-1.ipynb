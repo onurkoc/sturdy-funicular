{
 "cells": [
  {
   "cell_type": "markdown",
   "metadata": {
    "slideshow": {
     "slide_type": "slide"
    }
   },
   "source": [
    "## Nichtlineare Betonarbeitslinie nach EN 1992-1"
   ]
  },
  {
   "cell_type": "markdown",
   "metadata": {
    "slideshow": {
     "slide_type": "-"
    }
   },
   "source": [
    "#### 1. Spannungs-Dehnungs-Linie für nichtlineares Verfahren der Schnittgrößenermittlung und für Verformunsberechnung"
   ]
  },
  {
   "cell_type": "markdown",
   "metadata": {
    "slideshow": {
     "slide_type": "-"
    }
   },
   "source": [
    "Formel: $\\frac{\\sigma_c}{f_{cm}} = \\frac{k\\eta - \\eta^2}{1 \\  + \\  (k - 2) \\ \\eta}$\n",
    "<br>\n",
    "***\n",
    "__Dabei ist__\n",
    "<br>\n",
    "$\\eta = \\frac{\\epsilon_c}{\\epsilon_{c1}}$\n",
    "<br>\n",
    "<br>\n",
    "$k = \\frac{1,05 \\  E_{cm} \\  \\times \\  \\lvert \\epsilon_{c1} \\rvert}{f_{cm}}$"
   ]
  },
  {
   "cell_type": "code",
   "execution_count": 1,
   "metadata": {
    "ExecuteTime": {
     "end_time": "2017-06-01T13:52:14.862786Z",
     "start_time": "2017-06-01T13:52:14.741698Z"
    },
    "slideshow": {
     "slide_type": "skip"
    }
   },
   "outputs": [
    {
     "data": {
      "application/vnd.jupyter.widget-view+json": {
       "model_id": "019a2530623542568325bad1f1e723bc"
      }
     },
     "metadata": {},
     "output_type": "display_data"
    }
   ],
   "source": [
    "import ipywidgets as widgets\n",
    "from IPython.display import Javascript, display\n",
    "from collections import namedtuple\n",
    "\n",
    "w = widgets.Dropdown(\n",
    "    options=['C20/25', 'C25/30', 'C30/37', 'C35/45', 'C40/50'],\n",
    "    value='C20/25',\n",
    "    description='',)\n",
    "\n",
    "def on_button_clicked(btn):\n",
    "    if w.value == 'C20/25':\n",
    "        beton = namedtuple('beton', 'fck fcm fctm Ecm εc1 εcu1 εc2 n εc3 εcu3')\n",
    "        C20 =  beton(fck=20, fcm=25, fctm=2.2, Ecm=30000, εc1=2.0, εcu1=3.5, εc2=2, n=2, εc3=1.75, εcu3=3.5)\n",
    "        return C20\n",
    "    if w.value == 'C25/30':\n",
    "        beton = namedtuple('beton', 'fck fcm fctm Ecm εc1 εcu1 εc2 n εc3 εcu3')\n",
    "        C25 =  beton(fck=25, fcm=33, fctm=2.6, Ecm=31000, εc1=2.1, εcu1=3.5, εc2=2, n=2, εc3=1.75, εcu3=3.5)\n",
    "        return C25\n",
    "    if w.value == 'C30/37':\n",
    "        beton = namedtuple('beton', 'fck fcm fctm Ecm εc1 εcu1 εc2 n εc3 εcu3')\n",
    "        C30 =  beton(fck=30, fcm=38, fctm=2.9, Ecm=33000, εc1=2.2, εcu1=3.5, εc2=2, n=2, εc3=1.75, εcu3=3.5)\n",
    "        return C30\n",
    "    if w.value == 'C35/45':\n",
    "        beton = namedtuple('beton', 'fck fcm fctm Ecm εc1 εcu1 εc2 n εc3 εcu3')\n",
    "        C35 =  beton(fck=35, fcm=43, fctm=3.2, Ecm=34000, εc1=2.25, εcu1=3.5, εc2=2, n=2, εc3=1.75, εcu3=3.5)\n",
    "        return C35\n",
    "    else:\n",
    "        beton = namedtuple('beton', 'fck fcm fctm Ecm εc1 εcu1 εc2 n εc3 εcu3')\n",
    "        C40 =  beton(fck=40, fcm=48, fctm=3.5, Ecm=35000, εc1=2.3, εcu1=3.5, εc2=2, n=2, εc3=1.75, εcu3=3.5)\n",
    "        return C40\n",
    "\n",
    "btn = widgets.Button(description=\"Betoneigenschaften\")\n",
    "btn.on_click(on_button_clicked)\n",
    "\n",
    "display(w)\n",
    "#display(btn)"
   ]
  },
  {
   "cell_type": "code",
   "execution_count": 7,
   "metadata": {
    "ExecuteTime": {
     "end_time": "2017-06-01T13:52:22.596546Z",
     "start_time": "2017-06-01T13:52:22.510483Z"
    },
    "scrolled": true,
    "slideshow": {
     "slide_type": "slide"
    }
   },
   "outputs": [
    {
     "data": {
      "application/javascript": [
       "IPython.notebook.execute_cells_below()"
      ],
      "text/plain": [
       "<IPython.core.display.Javascript object>"
      ]
     },
     "metadata": {},
     "output_type": "display_data"
    },
    {
     "name": "stdout",
     "output_type": "stream",
     "text": [
      "Betoneigenschaften für C25/30\n",
      "fck = 25\n",
      "fcm = 33\n",
      "fctm = 2.6\n",
      "Ecm = 31000\n",
      "εc1 = 2.1\n",
      "εcu1 = 3.5\n",
      "εc2 = 2\n",
      "n = 2\n",
      "εc3 = 1.75\n",
      "εcu3 = 3.5\n"
     ]
    },
    {
     "data": {
      "application/vnd.jupyter.widget-view+json": {
       "model_id": "9c7522f312ca4c1fa9123c18927ff2d7"
      }
     },
     "metadata": {},
     "output_type": "display_data"
    }
   ],
   "source": [
    "beton = on_button_clicked(btn)\n",
    "fck = beton.fck\n",
    "fcm = beton.fcm\n",
    "fctm = beton.fctm\n",
    "Ecm = beton.Ecm\n",
    "εc1 = beton.εc1\n",
    "εcu1 = beton.εcu1\n",
    "εc2 = beton.εc2\n",
    "n = beton.n\n",
    "εc3 = beton.εc3\n",
    "εcu3 = beton.εcu3\n",
    "\n",
    "print('Betoneigenschaften für', w.value)\n",
    "print('fck =', fck)\n",
    "print('fcm =', fcm)\n",
    "print('fctm =', fctm)\n",
    "print('Ecm =', Ecm)\n",
    "print('εc1 =', εc1)\n",
    "print('εcu1 =', εcu1)\n",
    "print('εc2 =', εc2)\n",
    "print('n =', n)\n",
    "print('εc3 =', εc3)\n",
    "print('εcu3 =', εcu3)\n",
    "\n",
    "def run_all(ev):\n",
    "    display(Javascript('IPython.notebook.execute_cells_below()'))\n",
    "\n",
    "button = widgets.Button(description=\"Run below\")\n",
    "button.on_click(run_all)\n",
    "\n",
    "display(button)"
   ]
  },
  {
   "cell_type": "code",
   "execution_count": 8,
   "metadata": {
    "ExecuteTime": {
     "end_time": "2017-06-01T13:52:22.651583Z",
     "start_time": "2017-06-01T13:52:22.599546Z"
    },
    "slideshow": {
     "slide_type": "skip"
    }
   },
   "outputs": [
    {
     "data": {
      "text/html": [
       "<table style=\"color: black;border: 1px solid black;\"><tr style=\"color: black;border: 1px solid black;\"><td style=\"color: black;font-weight: bold;background-color: lightgray;\">εc</td><td style=\"color: black;font-weight: bold;background-color: lightgray;\">σc</td></tr><tr style=\"color: black;border: 1px solid black;\"><td style=\"color: black;border: 1px solid black;\">0.0</td><td style=\"color: black;border: 1px solid black;\">0.0</td></tr><tr style=\"color: black;border: 1px solid black;\"><td style=\"color: black;border: 1px solid black;\">0.0001</td><td style=\"color: black;border: 1px solid black;\">3169.39959753</td></tr><tr style=\"color: black;border: 1px solid black;\"><td style=\"color: black;border: 1px solid black;\">0.0002</td><td style=\"color: black;border: 1px solid black;\">6168.75410783</td></tr><tr style=\"color: black;border: 1px solid black;\"><td style=\"color: black;border: 1px solid black;\">0.0003</td><td style=\"color: black;border: 1px solid black;\">8999.7796123</td></tr><tr style=\"color: black;border: 1px solid black;\"><td style=\"color: black;border: 1px solid black;\">0.0004</td><td style=\"color: black;border: 1px solid black;\">11664.1691784</td></tr><tr style=\"color: black;border: 1px solid black;\"><td style=\"color: black;border: 1px solid black;\">0.0005</td><td style=\"color: black;border: 1px solid black;\">14163.593244</td></tr><tr style=\"color: black;border: 1px solid black;\"><td style=\"color: black;border: 1px solid black;\">0.0006</td><td style=\"color: black;border: 1px solid black;\">16499.6999945</td></tr><tr style=\"color: black;border: 1px solid black;\"><td style=\"color: black;border: 1px solid black;\">0.0007</td><td style=\"color: black;border: 1px solid black;\">18674.1157318</td></tr><tr style=\"color: black;border: 1px solid black;\"><td style=\"color: black;border: 1px solid black;\">0.0008</td><td style=\"color: black;border: 1px solid black;\">20688.4452365</td></tr><tr style=\"color: black;border: 1px solid black;\"><td style=\"color: black;border: 1px solid black;\">0.0009</td><td style=\"color: black;border: 1px solid black;\">22544.2721226</td></tr><tr style=\"color: black;border: 1px solid black;\"><td style=\"color: black;border: 1px solid black;\">0.001</td><td style=\"color: black;border: 1px solid black;\">24243.1591854</td></tr><tr style=\"color: black;border: 1px solid black;\"><td style=\"color: black;border: 1px solid black;\">0.0011</td><td style=\"color: black;border: 1px solid black;\">25786.6487426</td></tr><tr style=\"color: black;border: 1px solid black;\"><td style=\"color: black;border: 1px solid black;\">0.0012</td><td style=\"color: black;border: 1px solid black;\">27176.2629684</td></tr><tr style=\"color: black;border: 1px solid black;\"><td style=\"color: black;border: 1px solid black;\">0.0013</td><td style=\"color: black;border: 1px solid black;\">28413.5042214</td></tr><tr style=\"color: black;border: 1px solid black;\"><td style=\"color: black;border: 1px solid black;\">0.0014</td><td style=\"color: black;border: 1px solid black;\">29499.8553659</td></tr><tr style=\"color: black;border: 1px solid black;\"><td style=\"color: black;border: 1px solid black;\">0.0015</td><td style=\"color: black;border: 1px solid black;\">30436.7800874</td></tr><tr style=\"color: black;border: 1px solid black;\"><td style=\"color: black;border: 1px solid black;\">0.0016</td><td style=\"color: black;border: 1px solid black;\">31225.7232011</td></tr><tr style=\"color: black;border: 1px solid black;\"><td style=\"color: black;border: 1px solid black;\">0.0017</td><td style=\"color: black;border: 1px solid black;\">31868.1109555</td></tr><tr style=\"color: black;border: 1px solid black;\"><td style=\"color: black;border: 1px solid black;\">0.0018</td><td style=\"color: black;border: 1px solid black;\">32365.3513296</td></tr><tr style=\"color: black;border: 1px solid black;\"><td style=\"color: black;border: 1px solid black;\">0.0019</td><td style=\"color: black;border: 1px solid black;\">32718.8343243</td></tr><tr style=\"color: black;border: 1px solid black;\"><td style=\"color: black;border: 1px solid black;\">0.002</td><td style=\"color: black;border: 1px solid black;\">32929.9322485</td></tr><tr style=\"color: black;border: 1px solid black;\"><td style=\"color: black;border: 1px solid black;\">0.0021</td><td style=\"color: black;border: 1px solid black;\">33000.0</td></tr><tr style=\"color: black;border: 1px solid black;\"><td style=\"color: black;border: 1px solid black;\">0.0022</td><td style=\"color: black;border: 1px solid black;\">32930.3753402</td></tr><tr style=\"color: black;border: 1px solid black;\"><td style=\"color: black;border: 1px solid black;\">0.0023</td><td style=\"color: black;border: 1px solid black;\">32722.3791647</td></tr><tr style=\"color: black;border: 1px solid black;\"><td style=\"color: black;border: 1px solid black;\">0.0024</td><td style=\"color: black;border: 1px solid black;\">32377.3157678</td></tr><tr style=\"color: black;border: 1px solid black;\"><td style=\"color: black;border: 1px solid black;\">0.0025</td><td style=\"color: black;border: 1px solid black;\">31896.473103</td></tr><tr style=\"color: black;border: 1px solid black;\"><td style=\"color: black;border: 1px solid black;\">0.0026</td><td style=\"color: black;border: 1px solid black;\">31281.1230375</td></tr><tr style=\"color: black;border: 1px solid black;\"><td style=\"color: black;border: 1px solid black;\">0.0027</td><td style=\"color: black;border: 1px solid black;\">30532.5216032</td></tr><tr style=\"color: black;border: 1px solid black;\"><td style=\"color: black;border: 1px solid black;\">0.0028</td><td style=\"color: black;border: 1px solid black;\">29651.9092418</td></tr><tr style=\"color: black;border: 1px solid black;\"><td style=\"color: black;border: 1px solid black;\">0.0029</td><td style=\"color: black;border: 1px solid black;\">28640.5110465</td></tr><tr style=\"color: black;border: 1px solid black;\"><td style=\"color: black;border: 1px solid black;\">0.003</td><td style=\"color: black;border: 1px solid black;\">27499.5369981</td></tr><tr style=\"color: black;border: 1px solid black;\"><td style=\"color: black;border: 1px solid black;\">0.0031</td><td style=\"color: black;border: 1px solid black;\">26230.1821976</td></tr><tr style=\"color: black;border: 1px solid black;\"><td style=\"color: black;border: 1px solid black;\">0.0032</td><td style=\"color: black;border: 1px solid black;\">24833.6270944</td></tr><tr style=\"color: black;border: 1px solid black;\"><td style=\"color: black;border: 1px solid black;\">0.0033</td><td style=\"color: black;border: 1px solid black;\">23311.0377099</td></tr><tr style=\"color: black;border: 1px solid black;\"><td style=\"color: black;border: 1px solid black;\">0.0034</td><td style=\"color: black;border: 1px solid black;\">21663.5658571</td></tr><tr style=\"color: black;border: 1px solid black;\"><td style=\"color: black;border: 1px solid black;\">0.0035</td><td style=\"color: black;border: 1px solid black;\">19892.3493568</td></tr><tr style=\"color: black;border: 1px solid black;\"><td style=\"color: black;border: 1px solid black;\">0.0037</td><td style=\"color: black;border: 1px solid black;\">0.0</td></tr></table>"
      ],
      "text/plain": [
       "<itable.itable.PrettyTable at 0x25faa657a58>"
      ]
     },
     "execution_count": 8,
     "metadata": {},
     "output_type": "execute_result"
    }
   ],
   "source": [
    "import numpy as np\n",
    "import pandas as pd\n",
    "import itable\n",
    "εc = np.arange(0,0.0036,0.0001)\n",
    "η = εc / εc1 * 1000\n",
    "k = 1.05 * Ecm * np.abs(εc1) / fcm / 1000\n",
    "σc = fcm * 1000 * (k * η - η**2) / (1 + (k - 2) * η)\n",
    "d = {'εc': εc, 'σc':σc}\n",
    "df = pd.DataFrame(data=d)\n",
    "df.loc[36] = [0.0037, 0.0]\n",
    "itable.PrettyTable(df, tstyle=itable.TableStyle(theme=\"theme1\"), center=False)\n",
    "# itable.PrettyTable(df[['σc']], tstyle=itable.TableStyle(theme=\"theme1\"), center=False)\n",
    "# Zum Ausdrucken die Epsilon-Werte -> σc mit εc austauschen"
   ]
  },
  {
   "cell_type": "code",
   "execution_count": 9,
   "metadata": {
    "ExecuteTime": {
     "end_time": "2017-06-01T13:52:23.012860Z",
     "start_time": "2017-06-01T13:52:22.657588Z"
    },
    "slideshow": {
     "slide_type": "slide"
    }
   },
   "outputs": [
    {
     "data": {
      "image/png": "[encoded data removed]",
      "text/plain": [
       "<matplotlib.figure.Figure at 0x25faa6703c8>"
      ]
     },
     "metadata": {},
     "output_type": "display_data"
    }
   ],
   "source": [
    "import matplotlib.pyplot as plt\n",
    "\n",
    "plt.figure(dpi=120)\n",
    "plt.plot(df['εc'], df['σc'],  'r-', linewidth=1.5, label=\"$\\epsilon_c$\")\n",
    "plt.xlabel('$\\epsilon_c$ [m/m]', fontsize=10)\n",
    "plt.ylabel('$\\sigma_c$ [kPa]', fontsize=10)\n",
    "plt.title('Spannungs-Dehnungs-Linie für nichtlineares Verfahren', fontsize=12)\n",
    "\n",
    "ax = plt.gca()  # gives the rights to change the axis properties\n",
    "ax.grid(True)  # grid on\n",
    "ax.set_xlim(0.0, 0.0038)\n",
    "ax.set_ylim(0.0, (max(σc)*1.1))\n",
    "box = ax.get_position()\n",
    "plt.show()"
   ]
  },
  {
   "cell_type": "markdown",
   "metadata": {
    "slideshow": {
     "slide_type": "slide"
    }
   },
   "source": [
    "#### 2. Spannungs-Dehnungs-Linie für die Querschnittbemessung"
   ]
  },
  {
   "cell_type": "markdown",
   "metadata": {
    "slideshow": {
     "slide_type": "-"
    }
   },
   "source": [
    "Formel: $ \\sigma_c = f_{cd} \\cdot \\lbrack 1 - ( 1 - \\frac {\\epsilon_c}{\\epsilon_{c2}})^n \\rbrack $\n",
    "<br>\n",
    "<br>\n",
    "$ \\sigma_c = f_{cd} $ für $ \\epsilon_{c2} \\leqslant \\epsilon_c \\leqslant \\epsilon_{cu2} $\n",
    "<br>\n",
    "***\n",
    "__Dabei ist__\n",
    "<br>\n",
    "$ n $ der Exponent nach Tabelle 3.1 der Norm EN-1992-1\n",
    "<br>\n",
    "$ \\epsilon_{c2} $ &nbsp;&nbsp;die Dehnung beim Erreichen der Festigkeitsgrenze nach Tabelle 3.1\n",
    "<br>\n",
    "$ \\epsilon_{cu2} $ die maximal Dehnung nach Tablle 3.1"
   ]
  },
  {
   "cell_type": "code",
   "execution_count": 10,
   "metadata": {
    "ExecuteTime": {
     "end_time": "2017-06-01T13:52:23.063880Z",
     "start_time": "2017-06-01T13:52:23.015845Z"
    },
    "slideshow": {
     "slide_type": "skip"
    }
   },
   "outputs": [
    {
     "data": {
      "text/html": [
       "<table style=\"color: black;border: 1px solid black;\"><tr style=\"color: black;border: 1px solid black;\"><td style=\"color: black;font-weight: bold;background-color: lightgray;\">εc</td><td style=\"color: black;font-weight: bold;background-color: lightgray;\">σc</td></tr><tr style=\"color: black;border: 1px solid black;\"><td style=\"color: black;border: 1px solid black;\">0.0</td><td style=\"color: black;border: 1px solid black;\">0.0</td></tr><tr style=\"color: black;border: 1px solid black;\"><td style=\"color: black;border: 1px solid black;\">0.0001</td><td style=\"color: black;border: 1px solid black;\">1203.7037037</td></tr><tr style=\"color: black;border: 1px solid black;\"><td style=\"color: black;border: 1px solid black;\">0.0002</td><td style=\"color: black;border: 1px solid black;\">2345.67901235</td></tr><tr style=\"color: black;border: 1px solid black;\"><td style=\"color: black;border: 1px solid black;\">0.0003</td><td style=\"color: black;border: 1px solid black;\">3425.92592593</td></tr><tr style=\"color: black;border: 1px solid black;\"><td style=\"color: black;border: 1px solid black;\">0.0004</td><td style=\"color: black;border: 1px solid black;\">4444.44444444</td></tr><tr style=\"color: black;border: 1px solid black;\"><td style=\"color: black;border: 1px solid black;\">0.0005</td><td style=\"color: black;border: 1px solid black;\">5401.2345679</td></tr><tr style=\"color: black;border: 1px solid black;\"><td style=\"color: black;border: 1px solid black;\">0.0006</td><td style=\"color: black;border: 1px solid black;\">6296.2962963</td></tr><tr style=\"color: black;border: 1px solid black;\"><td style=\"color: black;border: 1px solid black;\">0.0007</td><td style=\"color: black;border: 1px solid black;\">7129.62962963</td></tr><tr style=\"color: black;border: 1px solid black;\"><td style=\"color: black;border: 1px solid black;\">0.0008</td><td style=\"color: black;border: 1px solid black;\">7901.2345679</td></tr><tr style=\"color: black;border: 1px solid black;\"><td style=\"color: black;border: 1px solid black;\">0.0009</td><td style=\"color: black;border: 1px solid black;\">8611.11111111</td></tr><tr style=\"color: black;border: 1px solid black;\"><td style=\"color: black;border: 1px solid black;\">0.001</td><td style=\"color: black;border: 1px solid black;\">9259.25925926</td></tr><tr style=\"color: black;border: 1px solid black;\"><td style=\"color: black;border: 1px solid black;\">0.0011</td><td style=\"color: black;border: 1px solid black;\">9845.67901235</td></tr><tr style=\"color: black;border: 1px solid black;\"><td style=\"color: black;border: 1px solid black;\">0.0012</td><td style=\"color: black;border: 1px solid black;\">10370.3703704</td></tr><tr style=\"color: black;border: 1px solid black;\"><td style=\"color: black;border: 1px solid black;\">0.0013</td><td style=\"color: black;border: 1px solid black;\">10833.3333333</td></tr><tr style=\"color: black;border: 1px solid black;\"><td style=\"color: black;border: 1px solid black;\">0.0014</td><td style=\"color: black;border: 1px solid black;\">11234.5679012</td></tr><tr style=\"color: black;border: 1px solid black;\"><td style=\"color: black;border: 1px solid black;\">0.0015</td><td style=\"color: black;border: 1px solid black;\">11574.0740741</td></tr><tr style=\"color: black;border: 1px solid black;\"><td style=\"color: black;border: 1px solid black;\">0.0016</td><td style=\"color: black;border: 1px solid black;\">11851.8518519</td></tr><tr style=\"color: black;border: 1px solid black;\"><td style=\"color: black;border: 1px solid black;\">0.0017</td><td style=\"color: black;border: 1px solid black;\">12067.9012346</td></tr><tr style=\"color: black;border: 1px solid black;\"><td style=\"color: black;border: 1px solid black;\">0.0018</td><td style=\"color: black;border: 1px solid black;\">12222.2222222</td></tr><tr style=\"color: black;border: 1px solid black;\"><td style=\"color: black;border: 1px solid black;\">0.0019</td><td style=\"color: black;border: 1px solid black;\">12314.8148148</td></tr><tr style=\"color: black;border: 1px solid black;\"><td style=\"color: black;border: 1px solid black;\">0.002</td><td style=\"color: black;border: 1px solid black;\">12345.6790123</td></tr><tr style=\"color: black;border: 1px solid black;\"><td style=\"color: black;border: 1px solid black;\">0.0021</td><td style=\"color: black;border: 1px solid black;\">12345.6790123</td></tr><tr style=\"color: black;border: 1px solid black;\"><td style=\"color: black;border: 1px solid black;\">0.0022</td><td style=\"color: black;border: 1px solid black;\">12345.6790123</td></tr><tr style=\"color: black;border: 1px solid black;\"><td style=\"color: black;border: 1px solid black;\">0.0023</td><td style=\"color: black;border: 1px solid black;\">12345.6790123</td></tr><tr style=\"color: black;border: 1px solid black;\"><td style=\"color: black;border: 1px solid black;\">0.0024</td><td style=\"color: black;border: 1px solid black;\">12345.6790123</td></tr><tr style=\"color: black;border: 1px solid black;\"><td style=\"color: black;border: 1px solid black;\">0.0025</td><td style=\"color: black;border: 1px solid black;\">12345.6790123</td></tr><tr style=\"color: black;border: 1px solid black;\"><td style=\"color: black;border: 1px solid black;\">0.0026</td><td style=\"color: black;border: 1px solid black;\">12345.6790123</td></tr><tr style=\"color: black;border: 1px solid black;\"><td style=\"color: black;border: 1px solid black;\">0.0027</td><td style=\"color: black;border: 1px solid black;\">12345.6790123</td></tr><tr style=\"color: black;border: 1px solid black;\"><td style=\"color: black;border: 1px solid black;\">0.0028</td><td style=\"color: black;border: 1px solid black;\">12345.6790123</td></tr><tr style=\"color: black;border: 1px solid black;\"><td style=\"color: black;border: 1px solid black;\">0.0029</td><td style=\"color: black;border: 1px solid black;\">12345.6790123</td></tr><tr style=\"color: black;border: 1px solid black;\"><td style=\"color: black;border: 1px solid black;\">0.003</td><td style=\"color: black;border: 1px solid black;\">12345.6790123</td></tr><tr style=\"color: black;border: 1px solid black;\"><td style=\"color: black;border: 1px solid black;\">0.0031</td><td style=\"color: black;border: 1px solid black;\">12345.6790123</td></tr><tr style=\"color: black;border: 1px solid black;\"><td style=\"color: black;border: 1px solid black;\">0.0032</td><td style=\"color: black;border: 1px solid black;\">12345.6790123</td></tr><tr style=\"color: black;border: 1px solid black;\"><td style=\"color: black;border: 1px solid black;\">0.0033</td><td style=\"color: black;border: 1px solid black;\">12345.6790123</td></tr><tr style=\"color: black;border: 1px solid black;\"><td style=\"color: black;border: 1px solid black;\">0.0034</td><td style=\"color: black;border: 1px solid black;\">12345.6790123</td></tr><tr style=\"color: black;border: 1px solid black;\"><td style=\"color: black;border: 1px solid black;\">0.0035</td><td style=\"color: black;border: 1px solid black;\">12345.6790123</td></tr><tr style=\"color: black;border: 1px solid black;\"><td style=\"color: black;border: 1px solid black;\">0.0036</td><td style=\"color: black;border: 1px solid black;\">0.0</td></tr></table>"
      ],
      "text/plain": [
       "<itable.itable.PrettyTable at 0x25faa6f6630>"
      ]
     },
     "execution_count": 10,
     "metadata": {},
     "output_type": "execute_result"
    }
   ],
   "source": [
    "γM = 1.5\n",
    "γE = 1.35\n",
    "εcu2 = εcu3\n",
    "εc_ = np.arange(0, εc2/1000, 0.0001)\n",
    "εc__ = np.arange(εc2/1000, εcu2/1000 + 0.0001, 0.0001)\n",
    "σc_ = fck * 1000 * (1 - (1 - εc_ / εc2 * 1000)**n) / (γM * γE)\n",
    "σc__ = fck * 1000 / (γM * γE)\n",
    "d1 = {'εc': εc_, 'σc':σc_}\n",
    "d2 = {'εc': εc__, 'σc':σc__}\n",
    "df1 = pd.DataFrame(data=d1)\n",
    "df2 = pd.DataFrame(data=d2)\n",
    "frames = [df1, df2]\n",
    "df = pd.concat(frames)\n",
    "df.loc[36] = [0.0036, 0.0]\n",
    "itable.PrettyTable(df, tstyle=itable.TableStyle(theme=\"theme1\"), center=False)"
   ]
  },
  {
   "cell_type": "code",
   "execution_count": 11,
   "metadata": {
    "ExecuteTime": {
     "end_time": "2017-06-01T13:52:23.345098Z",
     "start_time": "2017-06-01T13:52:23.065881Z"
    },
    "slideshow": {
     "slide_type": "slide"
    }
   },
   "outputs": [
    {
     "data": {
      "image/png": "[encoded data removed]",
      "text/plain": [
       "<matplotlib.figure.Figure at 0x25faa6a0240>"
      ]
     },
     "metadata": {},
     "output_type": "display_data"
    }
   ],
   "source": [
    "plt.figure(dpi=120)\n",
    "plt.plot(df['εc'], df['σc'], 'r-', linewidth=1.5, label=\"$\\epsilon_c$\")\n",
    "plt.xlabel('$\\epsilon_c$ [m/m]', fontsize=10)\n",
    "plt.ylabel('$\\sigma_c$ [kPa]', fontsize=10)\n",
    "plt.title('Spannungs-Dehnungs-Linie für nichtlineares Verfahren', fontsize=12)\n",
    "\n",
    "ax = plt.gca()  # gives the rights to change the axis properties\n",
    "ax.grid(True)  # grid on\n",
    "ax.set_xlim(0.0, 0.0038)\n",
    "ax.set_ylim(0.0, (max(df['σc'])*1.1))\n",
    "box = ax.get_position()\n",
    "plt.show()"
   ]
  }
 ],
 "metadata": {
  "anaconda-cloud": {},
  "hide_input": true,
  "kernelspec": {
   "display_name": "Python [default]",
   "language": "python",
   "name": "python3"
  },
  "language_info": {
   "codemirror_mode": {
    "name": "ipython",
    "version": 3
   },
   "file_extension": ".py",
   "mimetype": "text/x-python",
   "name": "python",
   "nbconvert_exporter": "python",
   "pygments_lexer": "ipython3",
   "version": "3.5.3"
  },
  "latex_envs": {
   "bibliofile": "biblio.bib",
   "cite_by": "apalike",
   "current_citInitial": 1,
   "eqLabelWithNumbers": true,
   "eqNumInitial": 0
  },
  "widgets": {
   "application/vnd.jupyter.widget-state+json": {
    "state": {
     "019a2530623542568325bad1f1e723bc": {
      "model_module": "jupyter-js-widgets",
      "model_module_version": "~2.1.4",
      "model_name": "DropdownModel",
      "state": {
       "_model_module_version": "~2.1.4",
       "_options_labels": [
        "C20/25",
        "C25/30",
        "C30/37",
        "C35/45",
        "C40/50"
       ],
       "_view_module_version": "~2.1.4",
       "layout": "IPY_MODEL_221fd30aa3374baa9b7b315f4dc50e89",
       "value": "C25/30"
      }
     },
     "1335296cfad04cafadd3c4c61d18e338": {
      "model_module": "jupyter-js-widgets",
      "model_module_version": "~2.1.4",
      "model_name": "ButtonStyleModel",
      "state": {
       "_model_module_version": "~2.1.4",
       "_view_module_version": "~2.1.4"
      }
     },
     "1eca69e6e2964c91b0fbfe8e30659585": {
      "model_module": "jupyter-js-widgets",
      "model_module_version": "~2.1.4",
      "model_name": "ButtonStyleModel",
      "state": {
       "_model_module_version": "~2.1.4",
       "_view_module_version": "~2.1.4"
      }
     },
     "221fd30aa3374baa9b7b315f4dc50e89": {
      "model_module": "jupyter-js-widgets",
      "model_module_version": "~2.1.4",
      "model_name": "LayoutModel",
      "state": {
       "_model_module_version": "~2.1.4",
       "_view_module_version": "~2.1.4"
      }
     },
     "6a7d51cedcdb4d9fa2c3f7205b45d6bb": {
      "model_module": "jupyter-js-widgets",
      "model_module_version": "~2.1.4",
      "model_name": "ButtonModel",
      "state": {
       "_model_module_version": "~2.1.4",
       "_view_module_version": "~2.1.4",
       "description": "Betoneigenschaften",
       "layout": "IPY_MODEL_a7083b05d48d4efd8d6e22bdef459a72",
       "style": "IPY_MODEL_1eca69e6e2964c91b0fbfe8e30659585"
      }
     },
     "6f9b9700751d4ed7a0f1c416da5007d6": {
      "model_module": "jupyter-js-widgets",
      "model_module_version": "~2.1.4",
      "model_name": "ButtonStyleModel",
      "state": {
       "_model_module_version": "~2.1.4",
       "_view_module_version": "~2.1.4"
      }
     },
     "707d7de63b8740b7bd13822706ffc0f9": {
      "model_module": "jupyter-js-widgets",
      "model_module_version": "~2.1.4",
      "model_name": "ButtonModel",
      "state": {
       "_model_module_version": "~2.1.4",
       "_view_module_version": "~2.1.4",
       "description": "Run below",
       "layout": "IPY_MODEL_e9fc2f8fabe04db2afe923149e9c381c",
       "style": "IPY_MODEL_1335296cfad04cafadd3c4c61d18e338"
      }
     },
     "7950b71f716448038f7eec74e514edb5": {
      "model_module": "jupyter-js-widgets",
      "model_module_version": "~2.1.4",
      "model_name": "LayoutModel",
      "state": {
       "_model_module_version": "~2.1.4",
       "_view_module_version": "~2.1.4"
      }
     },
     "9c7522f312ca4c1fa9123c18927ff2d7": {
      "model_module": "jupyter-js-widgets",
      "model_module_version": "~2.1.4",
      "model_name": "ButtonModel",
      "state": {
       "_model_module_version": "~2.1.4",
       "_view_module_version": "~2.1.4",
       "description": "Run below",
       "layout": "IPY_MODEL_7950b71f716448038f7eec74e514edb5",
       "style": "IPY_MODEL_6f9b9700751d4ed7a0f1c416da5007d6"
      }
     },
     "a7083b05d48d4efd8d6e22bdef459a72": {
      "model_module": "jupyter-js-widgets",
      "model_module_version": "~2.1.4",
      "model_name": "LayoutModel",
      "state": {
       "_model_module_version": "~2.1.4",
       "_view_module_version": "~2.1.4"
      }
     },
     "e9fc2f8fabe04db2afe923149e9c381c": {
      "model_module": "jupyter-js-widgets",
      "model_module_version": "~2.1.4",
      "model_name": "LayoutModel",
      "state": {
       "_model_module_version": "~2.1.4",
       "_view_module_version": "~2.1.4"
      }
     }
    },
    "version_major": 1,
    "version_minor": 0
   }
  }
 },
 "nbformat": 4,
 "nbformat_minor": 2
}
