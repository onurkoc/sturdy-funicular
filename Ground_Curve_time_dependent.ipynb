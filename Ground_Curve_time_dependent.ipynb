{
 "cells": [
  {
   "cell_type": "code",
   "execution_count": 2,
   "metadata": {
    "collapsed": false
   },
   "outputs": [
    {
     "name": "stderr",
     "output_type": "stream",
     "text": [
      "/usr/lib/python3/dist-packages/matplotlib/font_manager.py:1279: UserWarning: findfont: Font family ['sans-serif'] not found. Falling back to Bitstream Vera Sans\n",
      "  (prop.get_family(), self.defaultFamily[fontext]))\n",
      "/usr/lib/python3/dist-packages/matplotlib/font_manager.py:1289: UserWarning: findfont: Could not match :family=Bitstream Vera Sans:style=normal:variant=normal:weight=normal:stretch=normal:size=10.0. Returning /usr/share/matplotlib/mpl-data/fonts/ttf/cmex10.ttf\n",
      "  UserWarning)\n",
      "/usr/lib/python3/dist-packages/matplotlib/font_manager.py:1289: UserWarning: findfont: Could not match :family=Bitstream Vera Sans:style=normal:variant=normal:weight=normal:stretch=normal:size=12.0. Returning /usr/share/matplotlib/mpl-data/fonts/ttf/cmex10.ttf\n",
      "  UserWarning)\n"
     ]
    }
   ],
   "source": [
    "# -*- coding: utf-8 -*-\n",
    "\"\"\"\n",
    "Created on Mon Sep 26 23:22:56 2016\n",
    "\n",
    "@author: Onur Koc\n",
    "\"\"\"\n",
    "\n",
    "import numpy as np\n",
    "import matplotlib.pyplot as plt\n",
    "#import seaborn\n",
    "import Rock_Support_Curve_V3 as rs\n",
    "#from mpldatacursor import datacursor #optional to annotate any clicked point\n",
    "#get_ipython().magic('matplotlib qt')\n",
    "# Needed for ipython to draw in a seperate window\n",
    "\n",
    "# ------------\n",
    "# Input values\n",
    "# ------------\n",
    "\n",
    "rate = 3\n",
    "# Advance rate [m/day]\n",
    "\n",
    "# -------------------------------------------------------\n",
    "# The strength of the concrete (time+dependent behavior)\n",
    "# -------------------------------------------------------\n",
    "\n",
    "def strength(t):\n",
    "    if t <= 8:\n",
    "        return rs.f_ck * 0.03 * t\n",
    "    else:\n",
    "        return rs.f_ck*np.sqrt((t-0.212)/(116+0.841*t))\n",
    "\n",
    "t = np.arange(0, 48, 1)\n",
    "# Time from zero to 672h (28 days)\n",
    "\n",
    "f_str = []\n",
    "f_str = [strength(i) for i in t]\n",
    "\n",
    "p_scmax = []\n",
    "p_scmax = [f_str[i] * rs.t_c / rs.r_o for i in t]\n",
    "# The maximum sprayed concrete pressure [MPa]\n",
    "\n",
    "x = rs.dis_sup + rate * t / 24\n",
    "# Distance from tunnel face (a time-dependent array) [m]\n",
    "\n",
    "# A_b = -0.22*rs.nu + 0.81\n",
    "# B_b = 0.39*rs.nu + 0.65\n",
    "# u_ix = rs.u_if + rs.u_im * A_b * (1 - (B_b / (A_b + x / rs.r_o))**2)\n",
    "# Unlu and Gercek\n",
    "u_ix = rs.u_im*(1-(1-rs.u_if/rs.u_im)*np.exp(-3*x/(2*rs.r_pm)))\n",
    "# Vlachopoulos\n",
    "\n",
    "# u_ix = rs.u_if + (rs.u_im-rs.u_if) * (1-(0.84*rs.r_pm/(x + 0.84*rs.r_pm))**2)\n",
    "# Tunnel wall displacement behind the face (x > 0) [m] (Panet)\n",
    "\n",
    "# ------------------\n",
    "# Plotting utilities\n",
    "# ------------------\n",
    "\n",
    "plt.figure(num=1, dpi=125, edgecolor='b')\n",
    "fig = plt.gcf()\n",
    "fig.canvas.set_window_title('Support Resistance')\n",
    "plt.plot(u_ix, p_scmax, 'r-', lw=1.5)\n",
    "plt.plot(rs.x, rs.p_i/1000, 'b-', lw=1.5)\n",
    "plt.plot(rs.point_x, rs.point_y, 'y-', lw=1.5)\n",
    "plt.title('Time dependent support resistance')\n",
    "plt.ylabel('Support Pressure $P_i\\,[MPa]$', fontsize=12)\n",
    "plt.xlabel('Displacement $x\\,[m]$', fontsize=12)\n",
    "#datacursor(display='multiple', draggable=True)\n",
    "\n",
    "plt.figure(num=2, dpi=125, edgecolor='b')\n",
    "plt.plot(t, f_str, 'b-', lw=1.5)\n",
    "plt.title('Strengt development over time')\n",
    "plt.ylabel('Strength $f_{ck}\\,[MPa]$', fontsize=12)\n",
    "plt.xlabel('Time $t\\,[h]$', fontsize=12)\n",
    "#datacursor(display='multiple', draggable=True)\n",
    "plt.show()\n"
   ]
  },
  {
   "cell_type": "code",
   "execution_count": null,
   "metadata": {
    "collapsed": true
   },
   "outputs": [],
   "source": []
  }
 ],
 "metadata": {
  "kernelspec": {
   "display_name": "Python 3",
   "language": "python",
   "name": "python3"
  },
  "language_info": {
   "codemirror_mode": {
    "name": "ipython",
    "version": 3
   },
   "file_extension": ".py",
   "mimetype": "text/x-python",
   "name": "python",
   "nbconvert_exporter": "python",
   "pygments_lexer": "ipython3",
   "version": "3.4.2"
  }
 },
 "nbformat": 4,
 "nbformat_minor": 1
}
