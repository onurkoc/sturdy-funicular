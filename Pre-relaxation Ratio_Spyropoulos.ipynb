{
 "cells": [
  {
   "cell_type": "code",
   "execution_count": 11,
   "metadata": {
    "collapsed": false
   },
   "outputs": [
    {
     "name": "stdout",
     "output_type": "stream",
     "text": [
      "Using matplotlib backend: TkAgg\n",
      "Populating the interactive namespace from numpy and matplotlib\n",
      "4830\n",
      "998.56768941\n",
      "9.67385596634\n",
      "0.13737339599751247\n"
     ]
    },
    {
     "name": "stderr",
     "output_type": "stream",
     "text": [
      "/usr/local/lib/python3.4/dist-packages/IPython/core/magics/pylab.py:161: UserWarning: pylab import has clobbered these variables: ['gamma']\n",
      "`%matplotlib` prevents importing * from pylab and numpy\n",
      "  \"\\n`%matplotlib` prevents importing * from pylab and numpy\"\n"
     ]
    }
   ],
   "source": [
    "import numpy as np\n",
    "import matplotlib.pyplot as plt\n",
    "from mpldatacursor import datacursor \n",
    "import seaborn\n",
    "%pylab\n",
    "\n",
    "# ------------\n",
    "# Input values\n",
    "# ------------\n",
    "gamma = 23\n",
    "# Specific weight of the rock mass [kN/m³]\n",
    "H = 210\n",
    "# Overburden [m]\n",
    "E = 500000\n",
    "# Modulus of elasticity of the rock [kPa]\n",
    "p_o = gamma * H\n",
    "# In-situ stress [kPa]\n",
    "D = 12.4\n",
    "# Diameter of the tunnel [m]\n",
    "c = 300\n",
    "# Cohesion of the rock [kPa]\n",
    "phi = 28\n",
    "# Friction angle of the rock [deg]\n",
    "Phi = np.deg2rad(phi)\n",
    "# Convertion from degrees to radians [rad]\n",
    "r_o = D / 2\n",
    "# Radius of the tunnel\n",
    "\n",
    "# -----------------\n",
    "# Output parameters\n",
    "# -----------------\n",
    "\n",
    "sigma_cm = 2 * c * np.cos(Phi) / (1 - np.sin(Phi))\n",
    "# Uniaxial strength of the rock mass [kPa]\n",
    "\n",
    "N_s = 2 * p_o / sigma_cm\n",
    "# Overload factor\n",
    "\n",
    "M_s = E / (1000 * gamma * H**0.9 * D**0.1)\n",
    "# Pureley elastic response for M_s > 4\n",
    "\n",
    "x = np.arange(0, 50, 1)\n",
    "# Distance to the face, behind the face\n",
    "\n",
    "k = (np.tan(np.deg2rad(45) + Phi/2))**2\n",
    "# Slope defined by the Mohr-Coulomb criterion [-]\n",
    "\n",
    "z = (1 + np.exp(2.2 * M_s**0.37 * x / r_o))**(-1.2)\n",
    "# u_r / u_rmax\n",
    "\n",
    "lambda_ = 1 - ((2 / ((k - 1) * N_s)) * (z**((1-k)/(k+1)) - 1))\n",
    "# Deconfinement ratio\n",
    "\n",
    "\"\"\"\n",
    "plt.figure(num=1, dpi=125, edgecolor='w')\n",
    "fig = plt.gcf()\n",
    "fig.canvas.set_window_title('Equivalent support pressure coefficient')\n",
    "plt.plot(x, 1 - lambda_, 'r-', lw=1.5, label='Spyropoulos, 2005')\n",
    "plt.title('Equivalent support pressure coefficient $\\lambda(x)$')\n",
    "plt.ylabel('$\\lambda\\,[-]$', fontsize=12)\n",
    "plt.xlabel('Distance to face $x\\,[m]$', fontsize=12)\n",
    "datacursor(display='multiple', draggable=True)\n",
    "plt.show()\n",
    "\"\"\"\n",
    "print(p_o)\n",
    "print(sigma_cm)\n",
    "print(N_s)\n",
    "print(M_s)"
   ]
  },
  {
   "cell_type": "code",
   "execution_count": 12,
   "metadata": {
    "collapsed": false
   },
   "outputs": [
    {
     "name": "stdout",
     "output_type": "stream",
     "text": [
      "2.76982619537\n"
     ]
    }
   ],
   "source": [
    "print(k)"
   ]
  },
  {
   "cell_type": "code",
   "execution_count": 13,
   "metadata": {
    "collapsed": false
   },
   "outputs": [
    {
     "data": {
      "text/html": [
       "<div style=\"max-height:1000px;max-width:1500px;overflow:auto;\">\n",
       "<table border=\"1\" class=\"dataframe\">\n",
       "  <thead>\n",
       "    <tr style=\"text-align: right;\">\n",
       "      <th></th>\n",
       "      <th>0</th>\n",
       "    </tr>\n",
       "  </thead>\n",
       "  <tbody>\n",
       "    <tr>\n",
       "      <th>0</th>\n",
       "      <td> 0.435275</td>\n",
       "    </tr>\n",
       "    <tr>\n",
       "      <th>1</th>\n",
       "      <td> 0.391308</td>\n",
       "    </tr>\n",
       "    <tr>\n",
       "      <th>2</th>\n",
       "      <td> 0.348762</td>\n",
       "    </tr>\n",
       "    <tr>\n",
       "      <th>3</th>\n",
       "      <td> 0.308230</td>\n",
       "    </tr>\n",
       "    <tr>\n",
       "      <th>4</th>\n",
       "      <td> 0.270199</td>\n",
       "    </tr>\n",
       "  </tbody>\n",
       "</table>\n",
       "</div>"
      ],
      "text/plain": [
       "          0\n",
       "0  0.435275\n",
       "1  0.391308\n",
       "2  0.348762\n",
       "3  0.308230\n",
       "4  0.270199"
      ]
     },
     "execution_count": 13,
     "metadata": {},
     "output_type": "execute_result"
    }
   ],
   "source": [
    "import pandas as pd\n",
    "Z = pd.DataFrame(z)\n",
    "Z.head()"
   ]
  },
  {
   "cell_type": "code",
   "execution_count": 14,
   "metadata": {
    "collapsed": true
   },
   "outputs": [],
   "source": [
    "plt.figure(num=1, dpi=125, edgecolor='w')\n",
    "fig = plt.gcf()\n",
    "fig.canvas.set_window_title('Equivalent support pressure coefficient')\n",
    "plt.plot(x, 1 - lambda_, 'r-', lw=1.5, label='Spyropoulos, 2005')\n",
    "plt.title('Equivalent support pressure coefficient $\\lambda(x)$')\n",
    "plt.ylabel('$\\lambda\\,[-]$', fontsize=12)\n",
    "plt.xlabel('Distance to face $x\\,[m]$', fontsize=12)\n",
    "datacursor(display='multiple', draggable=True)\n",
    "plt.show()"
   ]
  },
  {
   "cell_type": "code",
   "execution_count": 10,
   "metadata": {
    "collapsed": false
   },
   "outputs": [
    {
     "name": "stdout",
     "output_type": "stream",
     "text": [
      "[  9.44195835e-01   9.35347014e-01   9.25270878e-01   9.13832778e-01\n",
      "   9.00887747e-01   8.86279567e-01   8.69839600e-01   8.51385376e-01\n",
      "   8.30718930e-01   8.07624901e-01   7.81868390e-01   7.53192594e-01\n",
      "   7.21316205e-01   6.85930572e-01   6.46696613e-01   6.03241464e-01\n",
      "   5.55154832e-01   5.01985023e-01   4.43234618e-01   3.78355743e-01\n",
      "   3.06744901e-01   2.27737305e-01   1.40600671e-01   4.45283922e-02\n",
      "  -6.13679449e-02  -1.78066799e-01  -3.06645724e-01  -4.48291333e-01\n",
      "  -6.04310250e-01  -7.76141170e-01  -9.65368124e-01  -1.17373508e+00\n",
      "  -1.40316204e+00  -1.65576266e+00  -1.93386383e+00  -2.24002699e+00\n",
      "  -2.57707180e+00  -2.94810208e+00  -3.35653438e+00  -3.80612945e+00\n",
      "  -4.30102685e+00  -4.84578307e+00  -5.44541350e+00  -6.10543857e+00\n",
      "  -6.83193458e+00  -7.63158963e+00  -8.51176521e+00  -9.48056397e+00\n",
      "  -1.05469043e+01  -1.17206023e+01  -1.30124624e+01  -1.44343766e+01\n",
      "  -1.59994341e+01  -1.77220417e+01  -1.96180562e+01  -2.17049309e+01\n",
      "  -2.40018758e+01  -2.65300345e+01  -2.93126790e+01  -3.23754237e+01\n",
      "  -3.57464616e+01  -3.94568232e+01  -4.35406626e+01  -4.80355717e+01\n",
      "  -5.29829264e+01  -5.84282672e+01  -6.44217187e+01  -7.10184506e+01\n",
      "  -7.82791862e+01  -8.62707605e+01  -9.50667362e+01  -1.04748080e+02\n",
      "  -1.15403910e+02  -1.27132311e+02  -1.40041245e+02  -1.54249538e+02\n",
      "  -1.69887978e+02  -1.87100517e+02  -2.06045595e+02  -2.26897603e+02\n",
      "  -2.49848483e+02  -2.75109499e+02  -3.02913178e+02  -3.33515452e+02\n",
      "  -3.67198017e+02  -4.04270920e+02  -4.45075417e+02  -4.89987114e+02\n",
      "  -5.39419423e+02  -5.93827369e+02  -6.53711776e+02  -7.19623881e+02\n",
      "  -7.92170406e+02  -8.72019140e+02  -9.59905091e+02  -1.05663725e+03\n",
      "  -1.16310604e+03  -1.28029150e+03  -1.40927232e+03  -1.55123578e+03]\n"
     ]
    }
   ],
   "source": [
    "print(lambda_)"
   ]
  },
  {
   "cell_type": "code",
   "execution_count": null,
   "metadata": {
    "collapsed": true
   },
   "outputs": [],
   "source": []
  }
 ],
 "metadata": {
  "kernelspec": {
   "display_name": "Python 3",
   "language": "python",
   "name": "python3"
  },
  "language_info": {
   "codemirror_mode": {
    "name": "ipython",
    "version": 3
   },
   "file_extension": ".py",
   "mimetype": "text/x-python",
   "name": "python",
   "nbconvert_exporter": "python",
   "pygments_lexer": "ipython3",
   "version": "3.4.2"
  }
 },
 "nbformat": 4,
 "nbformat_minor": 1
}
