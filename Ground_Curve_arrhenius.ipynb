{
 "cells": [
  {
   "cell_type": "code",
   "execution_count": 4,
   "metadata": {
    "ExecuteTime": {
     "end_time": "2016-11-01T23:35:22.601466",
     "start_time": "2016-11-01T23:35:22.471607"
    },
    "collapsed": false
   },
   "outputs": [],
   "source": [
    "# -*- coding: utf-8 -*-\n",
    "\"\"\"\n",
    "@author: Onur Koc\n",
    "\"\"\"\n",
    "\n",
    "import numpy as np\n",
    "import matplotlib.pyplot as plt\n",
    "import seaborn\n",
    "from scipy import integrate\n",
    "import Rock_Support_Curve_V3 as rs\n",
    "import Arrhenius as arr\n",
    "from mpldatacursor import datacursor #optional to annotate any clicked point\n",
    "get_ipython().magic('matplotlib qt')\n",
    "# Needed for ipython to draw in a seperate window\n",
    "\n",
    "# ------------\n",
    "# Input values\n",
    "# ------------\n",
    "\n",
    "rate = 3\n",
    "# Advance rate [m/day]\n",
    "\n",
    "# -------------------------------------------------------\n",
    "# The strength of the concrete (time+dependent behavior)\n",
    "# -------------------------------------------------------\n",
    "\n",
    "s1d = 24 * 60 * 60\n",
    "# One day in seconds\n",
    "\n",
    "t1y = 365 * s1d\n",
    "# One year in seconds\n",
    "\n",
    "t1w = 20 * s1d\n",
    "# One year in seconds\n",
    "\n",
    "t = np.linspace(0.0, t1w, 100)\n",
    "# Time from zero to 672h (20 days)\n",
    "\n",
    "p_scmax = arr.fc_t * rs.t_c / rs.r_o\n",
    "# The maximum sprayed concrete pressure [MPa]\n",
    "\n",
    "x = rs.dis_sup + rate * t / s1d\n",
    "# Distance from tunnel face (a time-dependent array) [m]\n",
    "\n",
    "u_ix = rs.u_im*(1-(1-rs.u_if/rs.u_im)*np.exp(-3*x/(2*rs.r_pm)))\n",
    "# Vlachopoulos\n",
    "\n",
    "# ------------------\n",
    "# Plotting utilities\n",
    "# ------------------\n",
    "\n",
    "plt.figure(num=1, dpi=125, edgecolor='w')\n",
    "fig = plt.gcf()\n",
    "fig.canvas.set_window_title('Support Resistance')\n",
    "plt.plot(u_ix, p_scmax, 'r-', lw=1.5)\n",
    "plt.plot(rs.x, rs.p_i/1000, 'b-', lw=1.5)\n",
    "plt.plot(rs.point_x, rs.point_y, 'y-', lw=1.5)\n",
    "plt.title('Time dependent support resistance')\n",
    "plt.ylabel('Support Pressure $P_i\\,[MPa]$', fontsize=12)\n",
    "plt.xlabel('Displacement $x\\,[m]$', fontsize=12)\n",
    "datacursor(display='multiple', draggable=True)\n",
    "\n",
    "plt.show()"
   ]
  },
  {
   "cell_type": "code",
   "execution_count": null,
   "metadata": {
    "collapsed": true
   },
   "outputs": [],
   "source": []
  }
 ],
 "metadata": {
  "anaconda-cloud": {},
  "kernelspec": {
   "display_name": "Python [default]",
   "language": "python",
   "name": "python3"
  },
  "language_info": {
   "codemirror_mode": {
    "name": "ipython",
    "version": 3
   },
   "file_extension": ".py",
   "mimetype": "text/x-python",
   "name": "python",
   "nbconvert_exporter": "python",
   "pygments_lexer": "ipython3",
   "version": "3.5.2"
  },
  "latex_envs": {
   "bibliofile": "biblio.bib",
   "cite_by": "apalike",
   "current_citInitial": 1,
   "eqLabelWithNumbers": true,
   "eqNumInitial": 0
  }
 },
 "nbformat": 4,
 "nbformat_minor": 1
}
